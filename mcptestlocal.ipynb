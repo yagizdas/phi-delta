{
 "cells": [
  {
   "cell_type": "code",
   "execution_count": 3,
   "id": "f63ab1ad",
   "metadata": {},
   "outputs": [],
   "source": [
    "main_path = \"./model_files/\""
   ]
  },
  {
   "cell_type": "code",
   "execution_count": 1,
   "id": "096941a5",
   "metadata": {},
   "outputs": [],
   "source": [
    "from dotenv import load_dotenv\n",
    "import os\n",
    "\n",
    "load_dotenv()  # Loads from .env file by default\n",
    "\n",
    "openai_key = os.getenv(\"OPENAI_API_KEY\")\n",
    "tavily_key = os.getenv(\"TAVILY_API_KEY\")\n"
   ]
  },
  {
   "cell_type": "code",
   "execution_count": 2,
   "id": "14421c82",
   "metadata": {},
   "outputs": [],
   "source": [
    "from langchain_openai import ChatOpenAI\n",
    "\n",
    "llm = ChatOpenAI(\n",
    "    model=\"phi-4-IQ4_XS\",\n",
    "    temperature=0.6,\n",
    "    base_url=\"http://localhost:8000/v1\"\n",
    ")\n",
    "\n",
    "reasoning_llm = ChatOpenAI(\n",
    "    model=\"phi-4-IQ4_XS\",\n",
    "    temperature=0.6,\n",
    "    base_url=\"http://localhost:8000/v1\"\n",
    ")"
   ]
  },
  {
   "cell_type": "code",
   "execution_count": null,
   "id": "264881df",
   "metadata": {},
   "outputs": [
    {
     "name": "stderr",
     "output_type": "stream",
     "text": [
      "/home/kefal/miniconda3/envs/mi/lib/python3.10/site-packages/tqdm/auto.py:21: TqdmWarning: IProgress not found. Please update jupyter and ipywidgets. See https://ipywidgets.readthedocs.io/en/stable/user_install.html\n",
      "  from .autonotebook import tqdm as notebook_tqdm\n",
      "Fetching 30 files: 100%|██████████| 30/30 [00:04<00:00,  6.86it/s]\n"
     ]
    },
    {
     "data": {
      "text/plain": [
       "'/home/kefal/.cache/huggingface/hub/models--sentence-transformers--all-MiniLM-L6-v2/snapshots/c9745ed1d9f207416be6d2e6f8de32d1f16199bf'"
      ]
     },
     "execution_count": 18,
     "metadata": {},
     "output_type": "execute_result"
    }
   ],
   "source": [
    "from huggingface_hub import snapshot_download\n",
    "\n",
    "snapshot_download(\n",
    "    repo_id=\"sentence-transformers/all-MiniLM-L6-v2\",\n",
    "    force_download=True\n",
    ")"
   ]
  },
  {
   "cell_type": "code",
   "execution_count": 2,
   "id": "f8b3d739",
   "metadata": {},
   "outputs": [
    {
     "name": "stderr",
     "output_type": "stream",
     "text": [
      "/tmp/ipykernel_3845/3062909178.py:13: LangChainDeprecationWarning: The class `HuggingFaceEmbeddings` was deprecated in LangChain 0.2.2 and will be removed in 1.0. An updated version of the class exists in the :class:`~langchain-huggingface package and should be used instead. To use it run `pip install -U :class:`~langchain-huggingface` and import as `from :class:`~langchain_huggingface import HuggingFaceEmbeddings``.\n",
      "  embeddings = HuggingFaceEmbeddings(model_name=\"sentence-transformers/all-MiniLM-L6-v2\", model_kwargs={\"device\":\"cpu\"})\n",
      "/home/kefal/miniconda3/envs/mi/lib/python3.10/site-packages/tqdm/auto.py:21: TqdmWarning: IProgress not found. Please update jupyter and ipywidgets. See https://ipywidgets.readthedocs.io/en/stable/user_install.html\n",
      "  from .autonotebook import tqdm as notebook_tqdm\n"
     ]
    }
   ],
   "source": [
    "from langchain_core.documents import Document\n",
    "from langchain_community.embeddings import HuggingFaceEmbeddings\n",
    "from langchain_community.vectorstores import FAISS\n",
    "from langchain.document_loaders import PyMuPDFLoader\n",
    "from langchain.text_splitter import RecursiveCharacterTextSplitter\n",
    "\n",
    "pdfs_path = \"./model_downloaded_pdfs/\"\n",
    "# 1. Create your documents\n",
    "loader = PyMuPDFLoader(pdfs_path+\"1311.0635v2.pdf\")\n",
    "docs = loader.load()\n",
    "\n",
    "# 2. Load local embedding model\n",
    "embeddings = HuggingFaceEmbeddings(model_name=\"sentence-transformers/all-MiniLM-L6-v2\", model_kwargs={\"device\":\"cpu\"})\n",
    "\n",
    "# 3. Create the FAISS vector store\n",
    "vector_store = FAISS.from_documents(docs, embeddings)\n",
    "\n"
   ]
  },
  {
   "cell_type": "code",
   "execution_count": 4,
   "id": "d077c448",
   "metadata": {},
   "outputs": [
    {
     "ename": "NameError",
     "evalue": "name 'vector_store' is not defined",
     "output_type": "error",
     "traceback": [
      "\u001b[0;31m---------------------------------------------------------------------------\u001b[0m",
      "\u001b[0;31mNameError\u001b[0m                                 Traceback (most recent call last)",
      "Cell \u001b[0;32mIn[4], line 3\u001b[0m\n\u001b[1;32m      1\u001b[0m \u001b[38;5;66;03m# 4. Run a similarity search\u001b[39;00m\n\u001b[1;32m      2\u001b[0m query \u001b[38;5;241m=\u001b[39m \u001b[38;5;124m\"\u001b[39m\u001b[38;5;124mTell me about entanglement\u001b[39m\u001b[38;5;124m\"\u001b[39m\n\u001b[0;32m----> 3\u001b[0m results \u001b[38;5;241m=\u001b[39m \u001b[43mvector_store\u001b[49m\u001b[38;5;241m.\u001b[39msimilarity_search(query, k\u001b[38;5;241m=\u001b[39m\u001b[38;5;241m2\u001b[39m)\n\u001b[1;32m      5\u001b[0m \u001b[38;5;66;03m# 5. Print results\u001b[39;00m\n\u001b[1;32m      6\u001b[0m \u001b[38;5;28;01mfor\u001b[39;00m i, doc \u001b[38;5;129;01min\u001b[39;00m \u001b[38;5;28menumerate\u001b[39m(results):\n",
      "\u001b[0;31mNameError\u001b[0m: name 'vector_store' is not defined"
     ]
    }
   ],
   "source": [
    "# 4. Run a similarity search\n",
    "query = \"Tell me about entanglement\"\n",
    "results = vector_store.similarity_search(query, k=2)\n",
    "\n",
    "# 5. Print results\n",
    "for i, doc in enumerate(results):\n",
    "    print(f\"\\nResult {i+1}:\")\n",
    "    print(\"Content:\", doc.page_content)\n",
    "    print(\"Metadata:\", doc.metadata)\n"
   ]
  },
  {
   "cell_type": "code",
   "execution_count": 28,
   "id": "78a7ca31",
   "metadata": {},
   "outputs": [
    {
     "name": "stdout",
     "output_type": "stream",
     "text": [
      "\n",
      "Result 1:\n",
      "Content: microns to guide atoms from a thermal source by a red- or blue-detuned optical dipole\n",
      "trap [19–24]. However, capillaries suﬀer easily from transverse multi-mode operation of the\n",
      "guiding ﬁeld, attenuation of the beam while it propagates along the capillary, as well as\n",
      "the formation of speckles [19, 24], which are all detrimental to guiding of atoms. With the\n",
      "availability of hollow-core photonic crystal ﬁbers (HCPCFs) [25], also low-loss, single-mode\n",
      "guiding of light in hollow ﬁbers became possible. Since then, several groups demonstrated\n",
      "guiding of atoms into [26–28] or through HCPCFs [29, 30]. In these experiments the source of\n",
      "atoms was either a thermal oven [29], laser-cooled atoms from a magneto-optical trap (MOT)\n",
      "[27, 28, 30], or even a Bose-Einstein condensate [26]. Apart from the latter, technically very\n",
      "challenging approach, the most successful preparation of a medium at large OD so far was\n",
      "reported by Bajcsy et al. [28]. The authors demonstrated the loading of 3 ×104 87Rb atoms\n",
      "from a MOT into a HCPCF (length of 3 cm, core diameter ∼7 µm). This corresponded to\n",
      "a loading eﬃciency of 0.3 % from the MOT into the ﬁber. It yielded ODs of (12,60,180) on\n",
      "the transitions |F = 2⟩→|F ′ = 1, 2, 3⟩, respectively, of the D2 line.\n",
      "In this work we report on loading of laser-cooled 87Rb atoms from a MOT into a HCPCF\n",
      "of core diameter ∼7 µm, reaching the largest loading eﬃciency and optical depth achieved in\n",
      "such experiments so far. Our setup allows for cooling of atoms until they enter the HCPCF,\n",
      "a feature not possible, e.g., in the work of Ref. [28].\n",
      "We performed the experiment with 87Rb atoms trapped in a standard vapor cell MOT\n",
      "with rectangular-shaped quadrupole ﬁeld coils [31]. The three individual trapping beams\n",
      "were detuned by -18 MHz from the cycling transition with a total power of 38 mW and full-\n",
      "width-at-half-maximum (FWHM) diameters of 20 mm. The repumper, detuned by -6 MHz\n",
      "from the transition |F = 1⟩→|F ′ = 2⟩, had the same diameter and a power up to 3 mW.\n",
      "With this setup we typically trapped 107 atoms at a temperature of T ≃120 µK in the\n",
      "MOT after a loading period of 1 s. The HCPCF (HC-800-02, NKT Photonics, length 14\n",
      "cm, core diameter (5.5-7.0) µm, transmission window 770 nm - 870 nm, see Fig. 1(a)) was\n",
      "mounted vertically inside the vacuum system. The distance of the upper ﬁber tip from the\n",
      "center of the MOT was about 5.5 mm. We prepared a circularly polarized, red-detuned far\n",
      "oﬀ-resonant optical trap (FORT) inside the HCPCF to guide atoms into the ﬁber core and\n",
      "prevent collisions with the room temperature ﬁber wall. The radiation of the FORT was\n",
      "generated in a home-built tapered ampliﬁer system, operating at a wavelength of 855 nm\n",
      "and providing an output power up to 1 W. After passing through several optical elements,\n",
      "3\n",
      "Metadata: {'producer': 'dvips + GPL Ghostscript GIT PRERELEASE 9.22', 'creator': 'LaTeX with hyperref package', 'creationdate': '2018-10-31T03:37:59-04:00', 'source': './model_downloaded_pdfs/1311.0635v2.pdf', 'file_path': './model_downloaded_pdfs/1311.0635v2.pdf', 'total_pages': 10, 'format': 'PDF 1.4', 'title': '', 'author': '', 'subject': '', 'keywords': '', 'moddate': '2018-10-31T03:37:59-04:00', 'trapped': '', 'modDate': \"D:20181031033759-04'00'\", 'creationDate': \"D:20181031033759-04'00'\", 'page': 2}\n",
      "\n",
      "Result 2:\n",
      "Content: FIG. 2. (color online) (a) Timing sequence of the loading procedure. (b) Absorption measurement\n",
      "sequence. (c) Absolute transmitted probe power through the HCPCF vs. time without (black\n",
      "squares) and with (red circles) atoms loaded into the ﬁber. The data was averaged over 8 loading\n",
      "cycles. The blue triangles depict the diﬀerence of both signals. (c) Absorption spectrum on the\n",
      "transitions |F = 1⟩→|F ′ = 0, 1, 2⟩vs. probe laser detuning from state |F ′ = 1⟩(symbols). The\n",
      "black line shows a calculated spectrum for OD = (300(45), 1000(150), 1000(150)) on the transitions\n",
      "|F = 1⟩→|F ′ = 0, 1, 2⟩. The gray line shows a spectrum for OD ≃1 for reference.\n",
      "the HCPCF. To set up the dark funnel, we replaced the Gaussian-shaped repumper beam\n",
      "by two orthogonally aligned beams with funnel-shaped opaque masks in their beam paths\n",
      "(see Fig. 1(b)) and imaged them onto the cloud and ﬁber. Radiation resonant with the\n",
      "transition |F = 2⟩→|F ′ = 2⟩(see Fig. 1(c)) propagated through the ﬁber to serve as a\n",
      "depumper, which conﬁnes the population mainly in state |F = 1⟩[33]. We chose the width\n",
      "of the funnel to be twice as wide as the 1/e full width of the depumper to avoid heating by\n",
      "repumper and depumper pumping cycles. Ideally, this should enable all atoms to reach the\n",
      "ﬁber tip simply by gravitational force. However, we observed that though the center of the\n",
      "cloud in the dark funnel moved down towards the ﬁber when we switched on the depumper,\n",
      "no atoms made it into the ﬁber. We attribute this to small amounts of repumper stray light\n",
      "which leads to non-vanishing intensity right above the ﬁber where the extensions of the dark\n",
      "funnel are very small. To overcome this problem, we employed a two-stage loading procedure\n",
      "(see timing in Fig. 2(a)) : In a ﬁrst step, we collected atoms in the (dark) MOT for 990 ms.\n",
      "5\n",
      "Metadata: {'producer': 'dvips + GPL Ghostscript GIT PRERELEASE 9.22', 'creator': 'LaTeX with hyperref package', 'creationdate': '2018-10-31T03:37:59-04:00', 'source': './model_downloaded_pdfs/1311.0635v2.pdf', 'file_path': './model_downloaded_pdfs/1311.0635v2.pdf', 'total_pages': 10, 'format': 'PDF 1.4', 'title': '', 'author': '', 'subject': '', 'keywords': '', 'moddate': '2018-10-31T03:37:59-04:00', 'trapped': '', 'modDate': \"D:20181031033759-04'00'\", 'creationDate': \"D:20181031033759-04'00'\", 'page': 4}\n"
     ]
    }
   ],
   "source": [
    "# 4. Run a similarity search\n",
    "query = \"Results\"\n",
    "results = vector_store.similarity_search(query, k=2)\n",
    "\n",
    "# 5. Print results\n",
    "for i, doc in enumerate(results):\n",
    "    print(f\"\\nResult {i+1}:\")\n",
    "    print(\"Content:\", doc.page_content)\n",
    "    print(\"Metadata:\", doc.metadata)"
   ]
  },
  {
   "cell_type": "code",
   "execution_count": 3,
   "id": "2598b720",
   "metadata": {},
   "outputs": [],
   "source": [
    "from phi_delta.memory.memory import AgentMemory\n",
    "\n",
    "memory = AgentMemory()\n"
   ]
  },
  {
   "cell_type": "code",
   "execution_count": 49,
   "id": "21cc938a",
   "metadata": {},
   "outputs": [],
   "source": [
    "import arxiv\n",
    "from langchain.tools import Tool\n",
    "\n",
    "# 2. Create a custom function that returns structured data\n",
    "\n",
    "def search_arxiv_details(query: str, download= False, max_results: int = 3) -> str:\n",
    "\n",
    "    memory.arxiv_links.clear()\n",
    "\n",
    "    \"\"\"\n",
    "    Searches arXiv for a given query and returns a formatted string with\n",
    "    the paper's title, summary, arXiv ID, and a direct link.\n",
    "    \"\"\"\n",
    "    try:\n",
    "    \n",
    "        # Perform the search using the arxiv library\n",
    "        Client = arxiv.Client()\n",
    "\n",
    "        search = arxiv.Search(\n",
    "            query=query,\n",
    "            max_results=max_results,\n",
    "            sort_by=arxiv.SortCriterion.Relevance\n",
    "        )\n",
    "\n",
    "        formatted_results = []\n",
    "        for result in Client.results(search):\n",
    "            # The entry_id is the full URL, we can use it directly as the link\n",
    "            paper_link = result.entry_id\n",
    "            # The actual ID is the last part of the URL\n",
    "            paper_id = paper_link.split('/')[-1]\n",
    "\n",
    "            result_string = (\n",
    "                f\"Title: {result.title}\\n\"\n",
    "                f\"Authors: {', '.join(author.name for author in result.authors)}\\n\"\n",
    "                f\"Published: {result.published.strftime('%Y-%m-%d')}\\n\"\n",
    "                f\"Summary: {result.summary}\\n\"\n",
    "                f\"ArXiv ID: {paper_id}\\n\"\n",
    "                f\"Link: {paper_link}\\n\"\n",
    "            )\n",
    "            formatted_results.append(result_string)\n",
    "            \n",
    "            \n",
    "            memory.arxiv_links.append([paper_link, result.title])\n",
    "\n",
    "        if not formatted_results:\n",
    "            return \"No results found on ArXiv for that query.\"\n",
    "\n",
    "        if not download:\n",
    "            return \"\\n---\\n\".join(formatted_results)\n",
    "\n",
    "        return \"\\n---\\n\".join(formatted_results)\n",
    "\n",
    "    except Exception as e:\n",
    "        print(\"error\")\n",
    "        return f\"An error occurred during ArXiv search: {e}\"\n",
    "\n",
    "def search_arxiv_tool_input(input_data: dict) -> str:\n",
    "    query = input_data.get(\"query\", \"\")\n",
    "    max_results = input_data.get(\"max_results\", 3)\n",
    "\n",
    "    return search_arxiv_details(query=query, max_results=max_results)\n"
   ]
  },
  {
   "cell_type": "code",
   "execution_count": 50,
   "id": "a8e6c437",
   "metadata": {},
   "outputs": [],
   "source": [
    "import requests\n",
    "from pathlib import Path\n",
    "from typing import List, Tuple\n",
    "\n",
    "def download_arxiv_pdfs(links: List[str], save_directory: str = main_path) -> Tuple[str, List[str]]:\n",
    "    downloaded_file_paths = []\n",
    "\n",
    "    def convert_to_pdf_url(url: str) -> str:\n",
    "        if \"arxiv.org/abs/\" in url:\n",
    "            return url.replace(\"/abs/\", \"/pdf/\") + \".pdf\"\n",
    "        elif \"arxiv.org/pdf/\" in url and not url.endswith(\".pdf\"):\n",
    "            return url + \".pdf\"\n",
    "        return url\n",
    "\n",
    "    Path(save_directory).mkdir(parents=True, exist_ok=True)\n",
    "\n",
    "    for arxiv_url,doc_name in links:\n",
    "        \n",
    "        pdf_url = convert_to_pdf_url(arxiv_url)\n",
    "\n",
    "        # Better Document Names\n",
    "        doc_name = doc_name.replace(\" \", \"_\").replace(\"/\",\"-\") + \".pdf\"\n",
    "\n",
    "        filepath = Path(save_directory) / doc_name \n",
    "\n",
    "        try:\n",
    "            response = requests.get(pdf_url)\n",
    "            response.raise_for_status()\n",
    "            with open(filepath, \"wb\") as f:\n",
    "                f.write(response.content)\n",
    "            print(f\"✅ Downloaded to: {filepath}\")\n",
    "            downloaded_file_paths.append(str(filepath))\n",
    "        except Exception as e:\n",
    "            print(f\"❌ Failed to download {pdf_url}: {e}\")\n",
    "\n",
    "    summary_msg = f\"Successfully downloaded {len(downloaded_file_paths)} PDFs.\"\n",
    "    return summary_msg, downloaded_file_paths\n",
    "\n"
   ]
  },
  {
   "cell_type": "code",
   "execution_count": 51,
   "id": "1eee5204",
   "metadata": {},
   "outputs": [],
   "source": [
    "def list_directory(filetype: str = None, directory: str = main_path) -> list[str]:\n",
    "    import os\n",
    "    try:\n",
    "        files = os.listdir(directory)\n",
    "        if filetype:\n",
    "            return sorted([f for f in files if f.endswith(filetype)])\n",
    "        return sorted(files)\n",
    "    except Exception as e:\n",
    "        return [f\"Error listing directory: {e}\"]\n",
    "\n",
    "def list_files_tool_wrapper(input: str = \"\"):\n",
    "    filetype = input.strip() or None\n",
    "    return list_directory(filetype=filetype)\n"
   ]
  },
  {
   "cell_type": "code",
   "execution_count": 52,
   "id": "1c857e0d",
   "metadata": {},
   "outputs": [],
   "source": [
    "from langchain_community.tools import TavilySearchResults\n",
    "from langchain_experimental.tools.python.tool import PythonREPLTool\n",
    "from langchain_community.utilities import ArxivAPIWrapper\n",
    "from langchain.tools import Tool\n",
    "from langchain.agents import load_tools\n",
    "from langchain.tools import StructuredTool\n",
    "\n",
    "import phi4multimodal\n",
    "\n",
    "search_tool = TavilySearchResults(max_results = 5, include_answer = True)\n",
    "code_tool = PythonREPLTool()\n",
    "multimodal_tool = phi4multimodal.Phi4MMTool()\n",
    "\n",
    "#arxiv = ArxivAPIWrapper(top_k_results=3)\n",
    "\n",
    "arxiv_tool = StructuredTool.from_function(\n",
    "    name=\"arxiv_search\",\n",
    "    func=search_arxiv_tool_input,\n",
    "    description=(\n",
    "        \"Searches ArXiv for academic papers. \"\n",
    "        \"Accepts a dictionary with 'query' (str), and 'max_results' (int). \"\n",
    "        \"Example input: {'query': 'quantum entanglement', 'max_results': 5}\"\n",
    "    )\n",
    ")\n",
    "\n",
    "download_tool = Tool.from_function(\n",
    "    name=\"download_arxiv_pdfs\",\n",
    "    func=lambda _: download_arxiv_pdfs(memory.arxiv_links),  # return just the message\n",
    "    description=\"Downloads the PDF versions of academic papers from the last arxiv_search. It saves them locally for extensive analysis of the academic resources.\"\n",
    ")\n",
    "\n",
    "\n",
    "list_files_tool = Tool.from_function(\n",
    "    name=\"list_files\",\n",
    "    func=list_files_tool_wrapper,\n",
    "    description=\"Lists files in the directory. Optionally filter by file extension like 'pdf'.\"\n",
    ")\n",
    "\n",
    "tools = [search_tool, code_tool, multimodal_tool, arxiv_tool, download_tool, list_files_tool]"
   ]
  },
  {
   "cell_type": "code",
   "execution_count": 53,
   "id": "a3163f31",
   "metadata": {},
   "outputs": [],
   "source": [
    "from langgraph.prebuilt import create_react_agent\n",
    "\n",
    "agent = create_react_agent(\n",
    "    model = llm,\n",
    "    tools = tools,\n",
    ")"
   ]
  },
  {
   "cell_type": "code",
   "execution_count": 54,
   "id": "d6c90fea",
   "metadata": {},
   "outputs": [],
   "source": [
    "def extract_tool_names(conversation:dict) -> list[str]:\n",
    "    tool_names = set()\n",
    "    for msg in conversation.get('messages', []):\n",
    "        calls = []\n",
    "        if hasattr(msg, 'tool_calls'):\n",
    "            calls = msg.tool_calls or []\n",
    "        elif isinstance(msg,dict):\n",
    "            calls = msg.get('tool_calls') or []\n",
    "            if not calls and isinstance(msg.get('additional_kwargs'), dict):\n",
    "                calls = msg['additional_kwargs'].get('tool_calls', [])\n",
    "        else:\n",
    "            ak = getattr(msg, 'additional_kwargs', None)\n",
    "            if isinstance(ak, dict):\n",
    "                calls = ak.get('tool_calls', [])\n",
    "        for call in calls:\n",
    "            if isinstance(call, dict):\n",
    "                if 'name' in call:\n",
    "                    tool_names.add(call['name'])\n",
    "                elif 'function' in call and isinstance(call['function'], dict):\n",
    "                    fn = call['function']\n",
    "                    if 'name' in fn:\n",
    "                        tool_names.add(fn['name'])\n",
    "    return sorted(tool_names)"
   ]
  },
  {
   "cell_type": "code",
   "execution_count": 55,
   "id": "2cee3ed1",
   "metadata": {},
   "outputs": [],
   "source": [
    "conv_hist = summarize_conversation(memory.chat_history)"
   ]
  },
  {
   "cell_type": "code",
   "execution_count": 44,
   "id": "8cbf3882",
   "metadata": {},
   "outputs": [
    {
     "name": "stdout",
     "output_type": "stream",
     "text": [
      "<class 'str'>\n"
     ]
    }
   ],
   "source": [
    "print(type(conv_hist))"
   ]
  },
  {
   "cell_type": "code",
   "execution_count": 16,
   "id": "69be23a5",
   "metadata": {},
   "outputs": [],
   "source": [
    "import phi_delta.agents.router as router\n",
    "\n"
   ]
  },
  {
   "cell_type": "code",
   "execution_count": 26,
   "id": "8bae1d6f",
   "metadata": {},
   "outputs": [
    {
     "name": "stdout",
     "output_type": "stream",
     "text": [
      "Router Prompt: \n",
      "    \n",
      "You are a router agent. Your job is to classify the query into one of two pipelines.\n",
      "\n",
      "You MUST choose exactly one of the following options. Do not explain your choice. Do not output anything else.\n",
      "\n",
      "Since the user can ask questions back to back, there might be some context available here from the older messages and actions that relates to the users message: \n",
      "\n",
      "---\n",
      "\n",
      "**Available Pipelines:**\n",
      "\n",
      "1) QuickResponse  \n",
      "Use this if the query is a simple or casual question, such as \"How are you?\", \"Who are you?\", or other short, conversational, or factual queries that do not require tools or reasoning.\n",
      "\n",
      "2) Agentic  \n",
      "Use this if the query is complex, involves reasoning, tool use, analysis, math, or planning. Anything requiring an agentic workflow falls here.\n",
      "\n",
      "---\n",
      "\n",
      "**Instructions:**\n",
      "\n",
      "- Just select the pipeline name.\n",
      "- DO NOT generate any reasoning, explanation, or steps.\n",
      "- ONLY output the selected pipeline in the format below:\n",
      "\n",
      "**Response Format (strict):**\n",
      "\n",
      "Choosen Pipeline: <QuickResponse OR Agentic>\n",
      "\n",
      "---\n",
      "\n",
      "The tools available to the Agentic pipeline are:\n",
      "\n",
      "\n",
      "You have access to the following tools:\n",
      "\n",
      "1. search_tool: Use this to search the web for up-to-date information, including breaking news.\n",
      "   - Input: a natural language query\n",
      "   - Output: recent web results related to the query\n",
      "\n",
      "2. arxiv_search: Use this to search for academic papers in a max_results amount. download_tool can be used AFTER to download the resulting PDFs to local storage for further analysis. Downloading the previously accessed ArXiv links are not possible, it has to be downloaded right away or not. \n",
      "   - Input: A dictionary. Example: \"query\":\"the topic/author to be searched\", \"max_results\": 3-5 etc.\n",
      "   - Output: A number of academic papers with summaries, authors, and links. \n",
      "\n",
      "3. code_tool: Executes Python code.\n",
      "   - Input: a Python expression or block\n",
      "   - Output: the result of code execution (e.g., calculations, data analysis)\n",
      "\n",
      "4. multimodal_tool: Use this to analyze or interpret images.\n",
      "   - Input: an image and a prompt (e.g., \"Describe this image.\")\n",
      "   - Output: a description or interpretation of the image\n",
      "\n",
      "5. download_tool: Use this to download the previously accessed academic papers with arxiv_search tool. You can ONLY use this tool after you use arxiv_search, and it will only download tha papers you searched exactly before this tool.\n",
      "   - Input: Simple Run, No Input\n",
      "   - Output: Downloading the Papers searched before to gather a deep analysis on them.\n",
      "\n",
      "6. list_directory_tool: Use this to check your directory. You can check out the previous files that are downloaded before you to gather information about their name to further analysis on the next steps.\n",
      "   - Input: \"\" for listing ALL files, or \"pdf\", \"jpeg\" etc. to filter-search with special file types.\n",
      "   - Output: The directories of the specified folders\n",
      "\n",
      "You are only allowed to plan steps that use these tools. Do not mention subscribing to newsletters, downloading apps, or using external social media platforms.\n",
      "\n",
      "You need to only solve the task. Do not add something suggestive.\n",
      "\n",
      "\n",
      "\n",
      "Choosen Pipeline: Agentic\n"
     ]
    }
   ],
   "source": [
    "print(router.run_router(reasoning_llm,\"i will kill myself\",\"\"))"
   ]
  },
  {
   "cell_type": "code",
   "execution_count": null,
   "id": "4d59ee8b",
   "metadata": {},
   "outputs": [],
   "source": [
    "#yapıldı\n",
    "TOOL_DESCRIPTIONS = \"\"\"\n",
    "You have access to the following tools:\n",
    "\n",
    "1. search_tool: Use this to search the web for up-to-date information, including breaking news.\n",
    "   - Input: a natural language query\n",
    "   - Output: recent web results related to the query\n",
    "\n",
    "2. arxiv_search: Use this to search for academic papers in a max_results amount. download_tool can be used AFTER to download the resulting PDFs to local storage for further analysis. Downloading the previously accessed ArXiv links are not possible, it has to be downloaded right away or not. \n",
    "   - Input: A dictionary. Example: \"query\":\"the topic/author to be searched\", \"max_results\": 3-5 etc.\n",
    "   - Output: A number of academic papers with summaries, authors, and links. \n",
    "\n",
    "3. code_tool: Executes Python code.\n",
    "   - Input: a Python expression or block\n",
    "   - Output: the result of code execution (e.g., calculations, data analysis)\n",
    "\n",
    "4. multimodal_tool: Use this to analyze or interpret images.\n",
    "   - Input: an image and a prompt (e.g., \"Describe this image.\")\n",
    "   - Output: a description or interpretation of the image\n",
    "\n",
    "5. download_tool: Use this to download the previously accessed academic papers with arxiv_search tool. You can ONLY use this tool after you use arxiv_search, and it will only download tha papers you searched exactly before this tool.\n",
    "   - Input: Simple Run, No Input\n",
    "   - Output: Downloading the Papers searched before to gather a deep analysis on them.\n",
    "\n",
    "6. list_directory_tool: Use this to check your directory. You can check out the previous files that are downloaded before you to gather information about their name to further analysis on the next steps.\n",
    "   - Input: \"\" for listing ALL files, or \"pdf\", \"jpeg\" etc. to filter-search with special file types.\n",
    "   - Output: The directories of the specified folders\n",
    "\n",
    "You are only allowed to plan steps that use these tools. Do not mention subscribing to newsletters, downloading apps, or using external social media platforms.\n",
    "\n",
    "You need to only solve the task. Do not add something suggestive.\n",
    "\"\"\"\n",
    "#yapıldı \n",
    "def run_quickresponse(question: str, context: str = memory.chat_summary):\n",
    "\n",
    "    quickresponse_prompt = f\"\"\"\n",
    "You are a helpful assistant named \"Phi Delta\" that is aimed to help researchers and curious people about their tasks. You have a variety of tools that you can use, and your main goal is to help the user as much as possible in a positive way. You can answer questions about daily life and basic questions.\n",
    "\n",
    "Since the user can ask questions back to back, there might be some context available here from the older messages and actions that relates to the users message: {context}\n",
    "\"\"\"\n",
    "\n",
    "    result = reasoning_llm.invoke([\n",
    "\n",
    "        {\"role\": \"system\", \"content\": quickresponse_prompt},\n",
    "        {\"role\": \"user\", \"content\": f\"Task: {question}\"}\n",
    "\n",
    "    ])\n",
    "    return result.content\n",
    "\n",
    "#yapıldı\n",
    "def run_planner(question: str, context: str = memory.chat_summary):\n",
    "\n",
    "    planner_prompt = f\"\"\"\n",
    "You are a planning agent. Break the task given from the user into high-qualityclear, tool-usable small number of steps (usually 3–7) that an autonomous agent can follow in sequence. Don't proceed with the steps. Refer to the tools when you think its logical to do. \n",
    "\n",
    "To make more sense of the users input, there might be context available here: {context}\n",
    "\n",
    "Your Tools:\n",
    "\"\"\"\n",
    "\n",
    "    result = reasoning_llm.invoke([\n",
    "\n",
    "        {\"role\": \"system\", \"content\": planner_prompt + TOOL_DESCRIPTIONS},\n",
    "        {\"role\": \"user\", \"content\": f\"Task: {question}\"}\n",
    "\n",
    "    ])\n",
    "    return result.content\n",
    "\n",
    "#yapıldı\n",
    "def run_critic(planner_response: str, question: str):\n",
    "\n",
    "    critic_prompt = \"\"\"\n",
    "    You are a critic agent responsible for improving plans generated by a planner agent.\n",
    "\n",
    "    Your task is to:\n",
    "    - Evaluate a step-by-step plan for a given task\n",
    "    - Correct any tool misuses, vague steps, or missing logic\n",
    "    - Rewrite the plan as a clear, numbered list of executable steps\n",
    "    - Ensure every step refers to an available tool (if needed), and uses it correctly\n",
    "\n",
    "    **Instructions:**\n",
    "    1. Use only the following tools: search_tool, arxiv_search, code_tool, multimodal_tool.\n",
    "    2. If a step involves a tool, specify it clearly with the input it should receive.\n",
    "    3. Do not invent tools or external services.\n",
    "    4. Be concise, logical, and tool-aware.\n",
    "    5. Return your output in the structured format below.\n",
    "\n",
    "    **Response Format:**\n",
    "\n",
    "    Corrected Plan:\n",
    "    Step 1. <Step 1>\n",
    "    Step 2. <Step 2>\n",
    "    ...\n",
    "\n",
    "    Verdict: <READY or REVISE>\n",
    "\n",
    "    Only output the plan and verdict in the format shown above. You have tools that can be used: \n",
    "    \"\"\"\n",
    "\n",
    "    result = reasoning_llm.invoke([\n",
    "\n",
    "        {\"role\": \"system\", \"content\": critic_prompt + TOOL_DESCRIPTIONS},\n",
    "        {\"role\": \"user\", \"content\": f\"Planner Agent's Response: {planner_response}\"}\n",
    "\n",
    "    ])\n",
    "    return result.content\n",
    "\n",
    "## yapıldı\n",
    "def run_agent(step: str, context: str = memory.chat_summary):\n",
    "\n",
    "\n",
    "    executor_prompt = f\"\"\"\n",
    "    You are a step-by-step execution agent.\n",
    "\n",
    "    Your job is to perform the following step provided by the planner agent.\n",
    "\n",
    "    - Use tools ONLY if explicitly mentioned.\n",
    "    - Use the provided context below ONLY if relevant:\n",
    "    {context}\n",
    "\n",
    "    ---\n",
    "\n",
    "    When you are done, respond in **exactly** the format below:\n",
    "\n",
    "    ---\n",
    "\n",
    "    ### Summary:\n",
    "    - You MUST list any names, URLs, locations, files, or outputs you found.\n",
    "    - Always include **lists** when the step returns a set of results.\n",
    "    - This summary will be used as memory for future steps. Do NOT skip any critical information.\n",
    "    - Example:\n",
    "    ❌ Bad: \"I found good options.\"  \n",
    "    ✅ Good: \"Top results: 1. X, 2. Y, 3. Z.\"\n",
    "\n",
    "    If you retrieved data but do not summarize it clearly here, future agents will fail.\n",
    "\n",
    "    ### Resources:\n",
    "    List all links, references, file names, or other structured outputs. If none, say \"None.\"\n",
    "    \"\"\"\n",
    "\n",
    "    result = agent.invoke({\"messages\":[\n",
    "\n",
    "        {\"role\": \"system\", \"content\": executor_prompt + TOOL_DESCRIPTIONS},\n",
    "        {\"role\": \"user\", \"content\": f\"Your task: {step}\"}\n",
    "\n",
    "    ]})\n",
    "\n",
    "    raw_answer = result[\"messages\"][-1].content\n",
    "    tools_used = extract_tool_names(result)\n",
    "\n",
    "    return raw_answer,tools_used\n",
    "\n",
    "##yapıldı\n",
    "def run_evaluator(action: str, step: str, steps):\n",
    "\n",
    "    eval_prompt = f\"\"\"\n",
    "    You are an evaluator agent that is assigned to evaluate the executor agent.\n",
    "\n",
    "    Your job is to:\n",
    "    1. Evaluate how well the executor completed the **current step** in the plan.\n",
    "    2. Determine if the current output:\n",
    "    - Was correct and complete → Proceed with **No change**.\n",
    "    - Was incorrect or incomplete → Suggest **Changed Steps**.\n",
    "    - Requires **user input, file, clarification, or external confirmation** → Must **BREAK** AT ALL COSTS.\n",
    "\n",
    "    You MUST choose exactly one of the following outcomes:\n",
    "\n",
    "    ---\n",
    "\n",
    "    **Decision: \"No change\"**\n",
    "    - Use ONLY if the executor fully completed the step correctly AND the next steps can proceed automatically without any user input.\n",
    "\n",
    "    **Decision: \"Changed Steps\"**\n",
    "    - Use ONLY if the executor’s output was incorrect or suboptimal AND needs re-planning.\n",
    "    - Provide new next steps (omit completed and current step).\n",
    "\n",
    "    **Decision: \"BREAK\"**\n",
    "    - Use this if the executor's response depends on user input, file upload, external confirmation, or any human interaction.\n",
    "    - If the step includes phrases like \"please upload\", \"select a file\", \"provide your input\", \"waiting for...\", etc., you MUST choose BREAK.\n",
    "\n",
    "    ---\n",
    "\n",
    "    **Instructions:**\n",
    "\n",
    "    - Only include `Corrected NEXT Plan` if Decision is `\"Changed Steps\"`.\n",
    "    - Never include any explanation or reasoning in the output.\n",
    "    - Follow exactly this format:\n",
    "\n",
    "    Decision: <\"No change\" OR \"Changed Steps\" OR \"BREAK\">\n",
    "\n",
    "    OPTIONAL (only if Decision is \"Changed Steps\"):\n",
    "    Corrected NEXT Plan:\n",
    "    Step x. <...>\n",
    "    Step y. <...>\n",
    "\n",
    "    ---\n",
    "\n",
    "    Available tools for the executor agent: {TOOL_DESCRIPTIONS}\n",
    "\n",
    "    The full plan steps are: {steps}\n",
    "\n",
    "    \"\"\"\n",
    "\n",
    "    result = reasoning_llm.invoke([\n",
    "\n",
    "            {\"role\": \"system\", \"content\": eval_prompt},\n",
    "            {\"role\": \"user\", \"content\": f\"How the Agent approach the Step: {step} is: {action}\"}\n",
    "\n",
    "        ])\n",
    "    \n",
    "    return result.content\n",
    "\n",
    "#yapıldı \n",
    "def run_router(query: str, context: str = memory.chat_summary):\n",
    "\n",
    "    router_prompt = f\"\"\"\n",
    "    \n",
    "You are a router agent. Your job is to classify the query into one of two pipelines.\n",
    "\n",
    "You MUST choose exactly one of the following options. Do not explain your choice. Do not output anything else.\n",
    "\n",
    "Since the user can ask questions back to back, there might be some context available here from the older messages and actions that relates to the users message: {context}\n",
    "\n",
    "---\n",
    "\n",
    "**Available Pipelines:**\n",
    "\n",
    "1) QuickResponse  \n",
    "Use this if the query is a simple or casual question, such as \"How are you?\", \"Who are you?\", or other short, conversational, or factual queries that do not require tools or reasoning.\n",
    "\n",
    "2) Agentic  \n",
    "Use this if the query is complex, involves reasoning, tool use, analysis, math, or planning. Anything requiring an agentic workflow falls here.\n",
    "\n",
    "---\n",
    "\n",
    "**Instructions:**\n",
    "\n",
    "- Just select the pipeline name.\n",
    "- DO NOT generate any reasoning, explanation, or steps.\n",
    "- ONLY output the selected pipeline in the format below:\n",
    "\n",
    "**Response Format (strict):**\n",
    "\n",
    "Choosen Pipeline: <QuickResponse OR Agentic>\n",
    "\n",
    "---\n",
    "\n",
    "The tools available to the Agentic pipeline are:\n",
    "\n",
    "{TOOL_DESCRIPTIONS}\n",
    "\n",
    "\"\"\"\n",
    "    \n",
    "    result = reasoning_llm.invoke([\n",
    "\n",
    "            {\"role\": \"system\", \"content\": router_prompt},\n",
    "            {\"role\": \"user\", \"content\": f\"The Query to be routed is: {query}\"}\n",
    "\n",
    "        ])\n",
    "    \n",
    "    return result.content\n",
    "\n",
    "##yapıldı\n",
    "def summarize_conversation(history: List[Dict[str, str]]) -> str:\n",
    "    summary_prompt = \"\"\"\n",
    "    You are a summarizer agent. Your job is to create a concise but context-rich summary of the full conversation so far.\n",
    "    Focus on:\n",
    "    - The user’s goals and key questions\n",
    "    - Critical results from tools (e.g. titles, conclusions)\n",
    "    - Decisions made, paths taken\n",
    "    - Current task status or next goal\n",
    "\n",
    "    Do NOT repeat logs, metadata, or all tool outputs. Abstract what happened. Your goal is to compress the memory into ~300-500 tokens of useful continuity.\n",
    "    \"\"\"\n",
    "    return reasoning_llm.invoke([\n",
    "        {\"role\": \"system\", \"content\": summary_prompt},\n",
    "        {\"role\": \"user\", \"content\": str(history)}\n",
    "    ]).content\n",
    "\n"
   ]
  },
  {
   "cell_type": "code",
   "execution_count": 57,
   "id": "b6f5e260",
   "metadata": {},
   "outputs": [],
   "source": [
    "def parse_eval(response: str):\n",
    "\n",
    "    for i,line in enumerate(response.splitlines()):\n",
    "\n",
    "        if i == 0:\n",
    "\n",
    "            if \"no change\" in line.lower():\n",
    "                return 1\n",
    "            \n",
    "            if \"break\" in line.lower():\n",
    "                return -1\n",
    "            \n",
    "            if \"changed steps\" in line.lower():\n",
    "                return parse_critic_plan(response)\n",
    "\n",
    "def parse_critic_plan(text: str):\n",
    "\n",
    "    steps = []\n",
    "    step = []\n",
    "    first = False\n",
    "    started = False\n",
    "    for line in text.splitlines():\n",
    "        line = line.strip()\n",
    "        if line.lower().startswith(\"step\"):\n",
    "            started = True\n",
    "            if not first:\n",
    "                first = True\n",
    "                step = []\n",
    "                step.append(line)\n",
    "                continue\n",
    "            steps.append(step)\n",
    "            step = []\n",
    "\n",
    "        if started: \n",
    "            step.append(line)\n",
    "    \n",
    "    if step:\n",
    "        steps.append(step)\n",
    "\n",
    "    folded_steps = []\n",
    "    for step in steps:\n",
    "        step_string = \"\"\n",
    "        for line in step:\n",
    "            step_string += line\n",
    "        folded_steps.append(step_string)\n",
    "\n",
    "    return folded_steps\n",
    "\n",
    "\n",
    "\n",
    "\n",
    "def parse_agent(text: str):\n",
    "\n",
    "    summary = []\n",
    "    resources = []\n",
    "    summary_b = bool\n",
    "    resources_b = bool\n",
    "\n",
    "    for line in text.splitlines():\n",
    "\n",
    "        line = line.strip()\n",
    "        \n",
    "        if \"summary:\" in line.lower():\n",
    "            summary_b = True\n",
    "            resources_b = False\n",
    "            continue\n",
    "\n",
    "        if \"resources:\" in line.lower():\n",
    "            summary_b = False\n",
    "            resources_b = True\n",
    "            continue\n",
    "\n",
    "        if summary_b:\n",
    "            summary.append(line)\n",
    "\n",
    "        if resources_b:\n",
    "            resources.append(line)\n",
    "\n",
    "        summary_string = \"\"\n",
    "\n",
    "\n",
    "    for line in summary:\n",
    "        summary_string += line\n",
    "        \n",
    "    return summary_string, resources\n",
    "\n",
    "def parse_router(response:str) -> str:\n",
    "\n",
    "    try:\n",
    "\n",
    "        if \"QuickResponse\" in response:\n",
    "            return \"QuickResponse\"\n",
    "        \n",
    "        if \"Agentic\" in response:\n",
    "            return \"Agentic\"\n",
    "            \n",
    "        return \"None\"\n",
    "    \n",
    "    except Exception as e:\n",
    "        print(f\"Parsing the router failed: {e}\")\n"
   ]
  },
  {
   "cell_type": "code",
   "execution_count": 18,
   "id": "c8c18dae",
   "metadata": {},
   "outputs": [
    {
     "ename": "APIConnectionError",
     "evalue": "Connection error.",
     "output_type": "error",
     "traceback": [
      "\u001b[0;31m---------------------------------------------------------------------------\u001b[0m",
      "\u001b[0;31mConnectError\u001b[0m                              Traceback (most recent call last)",
      "File \u001b[0;32m~/miniconda3/envs/mi/lib/python3.10/site-packages/httpx/_transports/default.py:101\u001b[0m, in \u001b[0;36mmap_httpcore_exceptions\u001b[0;34m()\u001b[0m\n\u001b[1;32m    100\u001b[0m \u001b[38;5;28;01mtry\u001b[39;00m:\n\u001b[0;32m--> 101\u001b[0m     \u001b[38;5;28;01myield\u001b[39;00m\n\u001b[1;32m    102\u001b[0m \u001b[38;5;28;01mexcept\u001b[39;00m \u001b[38;5;167;01mException\u001b[39;00m \u001b[38;5;28;01mas\u001b[39;00m exc:\n",
      "File \u001b[0;32m~/miniconda3/envs/mi/lib/python3.10/site-packages/httpx/_transports/default.py:250\u001b[0m, in \u001b[0;36mHTTPTransport.handle_request\u001b[0;34m(self, request)\u001b[0m\n\u001b[1;32m    249\u001b[0m \u001b[38;5;28;01mwith\u001b[39;00m map_httpcore_exceptions():\n\u001b[0;32m--> 250\u001b[0m     resp \u001b[38;5;241m=\u001b[39m \u001b[38;5;28;43mself\u001b[39;49m\u001b[38;5;241;43m.\u001b[39;49m\u001b[43m_pool\u001b[49m\u001b[38;5;241;43m.\u001b[39;49m\u001b[43mhandle_request\u001b[49m\u001b[43m(\u001b[49m\u001b[43mreq\u001b[49m\u001b[43m)\u001b[49m\n\u001b[1;32m    252\u001b[0m \u001b[38;5;28;01massert\u001b[39;00m \u001b[38;5;28misinstance\u001b[39m(resp\u001b[38;5;241m.\u001b[39mstream, typing\u001b[38;5;241m.\u001b[39mIterable)\n",
      "File \u001b[0;32m~/miniconda3/envs/mi/lib/python3.10/site-packages/httpcore/_sync/connection_pool.py:256\u001b[0m, in \u001b[0;36mConnectionPool.handle_request\u001b[0;34m(self, request)\u001b[0m\n\u001b[1;32m    255\u001b[0m     \u001b[38;5;28mself\u001b[39m\u001b[38;5;241m.\u001b[39m_close_connections(closing)\n\u001b[0;32m--> 256\u001b[0m     \u001b[38;5;28;01mraise\u001b[39;00m exc \u001b[38;5;28;01mfrom\u001b[39;00m\u001b[38;5;250m \u001b[39m\u001b[38;5;28;01mNone\u001b[39;00m\n\u001b[1;32m    258\u001b[0m \u001b[38;5;66;03m# Return the response. Note that in this case we still have to manage\u001b[39;00m\n\u001b[1;32m    259\u001b[0m \u001b[38;5;66;03m# the point at which the response is closed.\u001b[39;00m\n",
      "File \u001b[0;32m~/miniconda3/envs/mi/lib/python3.10/site-packages/httpcore/_sync/connection_pool.py:236\u001b[0m, in \u001b[0;36mConnectionPool.handle_request\u001b[0;34m(self, request)\u001b[0m\n\u001b[1;32m    234\u001b[0m \u001b[38;5;28;01mtry\u001b[39;00m:\n\u001b[1;32m    235\u001b[0m     \u001b[38;5;66;03m# Send the request on the assigned connection.\u001b[39;00m\n\u001b[0;32m--> 236\u001b[0m     response \u001b[38;5;241m=\u001b[39m \u001b[43mconnection\u001b[49m\u001b[38;5;241;43m.\u001b[39;49m\u001b[43mhandle_request\u001b[49m\u001b[43m(\u001b[49m\n\u001b[1;32m    237\u001b[0m \u001b[43m        \u001b[49m\u001b[43mpool_request\u001b[49m\u001b[38;5;241;43m.\u001b[39;49m\u001b[43mrequest\u001b[49m\n\u001b[1;32m    238\u001b[0m \u001b[43m    \u001b[49m\u001b[43m)\u001b[49m\n\u001b[1;32m    239\u001b[0m \u001b[38;5;28;01mexcept\u001b[39;00m ConnectionNotAvailable:\n\u001b[1;32m    240\u001b[0m     \u001b[38;5;66;03m# In some cases a connection may initially be available to\u001b[39;00m\n\u001b[1;32m    241\u001b[0m     \u001b[38;5;66;03m# handle a request, but then become unavailable.\u001b[39;00m\n\u001b[1;32m    242\u001b[0m     \u001b[38;5;66;03m#\u001b[39;00m\n\u001b[1;32m    243\u001b[0m     \u001b[38;5;66;03m# In this case we clear the connection and try again.\u001b[39;00m\n",
      "File \u001b[0;32m~/miniconda3/envs/mi/lib/python3.10/site-packages/httpcore/_sync/connection.py:101\u001b[0m, in \u001b[0;36mHTTPConnection.handle_request\u001b[0;34m(self, request)\u001b[0m\n\u001b[1;32m    100\u001b[0m     \u001b[38;5;28mself\u001b[39m\u001b[38;5;241m.\u001b[39m_connect_failed \u001b[38;5;241m=\u001b[39m \u001b[38;5;28;01mTrue\u001b[39;00m\n\u001b[0;32m--> 101\u001b[0m     \u001b[38;5;28;01mraise\u001b[39;00m exc\n\u001b[1;32m    103\u001b[0m \u001b[38;5;28;01mreturn\u001b[39;00m \u001b[38;5;28mself\u001b[39m\u001b[38;5;241m.\u001b[39m_connection\u001b[38;5;241m.\u001b[39mhandle_request(request)\n",
      "File \u001b[0;32m~/miniconda3/envs/mi/lib/python3.10/site-packages/httpcore/_sync/connection.py:78\u001b[0m, in \u001b[0;36mHTTPConnection.handle_request\u001b[0;34m(self, request)\u001b[0m\n\u001b[1;32m     77\u001b[0m \u001b[38;5;28;01mif\u001b[39;00m \u001b[38;5;28mself\u001b[39m\u001b[38;5;241m.\u001b[39m_connection \u001b[38;5;129;01mis\u001b[39;00m \u001b[38;5;28;01mNone\u001b[39;00m:\n\u001b[0;32m---> 78\u001b[0m     stream \u001b[38;5;241m=\u001b[39m \u001b[38;5;28;43mself\u001b[39;49m\u001b[38;5;241;43m.\u001b[39;49m\u001b[43m_connect\u001b[49m\u001b[43m(\u001b[49m\u001b[43mrequest\u001b[49m\u001b[43m)\u001b[49m\n\u001b[1;32m     80\u001b[0m     ssl_object \u001b[38;5;241m=\u001b[39m stream\u001b[38;5;241m.\u001b[39mget_extra_info(\u001b[38;5;124m\"\u001b[39m\u001b[38;5;124mssl_object\u001b[39m\u001b[38;5;124m\"\u001b[39m)\n",
      "File \u001b[0;32m~/miniconda3/envs/mi/lib/python3.10/site-packages/httpcore/_sync/connection.py:124\u001b[0m, in \u001b[0;36mHTTPConnection._connect\u001b[0;34m(self, request)\u001b[0m\n\u001b[1;32m    123\u001b[0m \u001b[38;5;28;01mwith\u001b[39;00m Trace(\u001b[38;5;124m\"\u001b[39m\u001b[38;5;124mconnect_tcp\u001b[39m\u001b[38;5;124m\"\u001b[39m, logger, request, kwargs) \u001b[38;5;28;01mas\u001b[39;00m trace:\n\u001b[0;32m--> 124\u001b[0m     stream \u001b[38;5;241m=\u001b[39m \u001b[38;5;28;43mself\u001b[39;49m\u001b[38;5;241;43m.\u001b[39;49m\u001b[43m_network_backend\u001b[49m\u001b[38;5;241;43m.\u001b[39;49m\u001b[43mconnect_tcp\u001b[49m\u001b[43m(\u001b[49m\u001b[38;5;241;43m*\u001b[39;49m\u001b[38;5;241;43m*\u001b[39;49m\u001b[43mkwargs\u001b[49m\u001b[43m)\u001b[49m\n\u001b[1;32m    125\u001b[0m     trace\u001b[38;5;241m.\u001b[39mreturn_value \u001b[38;5;241m=\u001b[39m stream\n",
      "File \u001b[0;32m~/miniconda3/envs/mi/lib/python3.10/site-packages/httpcore/_backends/sync.py:207\u001b[0m, in \u001b[0;36mSyncBackend.connect_tcp\u001b[0;34m(self, host, port, timeout, local_address, socket_options)\u001b[0m\n\u001b[1;32m    202\u001b[0m exc_map: ExceptionMapping \u001b[38;5;241m=\u001b[39m {\n\u001b[1;32m    203\u001b[0m     socket\u001b[38;5;241m.\u001b[39mtimeout: ConnectTimeout,\n\u001b[1;32m    204\u001b[0m     \u001b[38;5;167;01mOSError\u001b[39;00m: ConnectError,\n\u001b[1;32m    205\u001b[0m }\n\u001b[0;32m--> 207\u001b[0m \u001b[38;5;28;01mwith\u001b[39;00m map_exceptions(exc_map):\n\u001b[1;32m    208\u001b[0m     sock \u001b[38;5;241m=\u001b[39m socket\u001b[38;5;241m.\u001b[39mcreate_connection(\n\u001b[1;32m    209\u001b[0m         address,\n\u001b[1;32m    210\u001b[0m         timeout,\n\u001b[1;32m    211\u001b[0m         source_address\u001b[38;5;241m=\u001b[39msource_address,\n\u001b[1;32m    212\u001b[0m     )\n",
      "File \u001b[0;32m~/miniconda3/envs/mi/lib/python3.10/contextlib.py:153\u001b[0m, in \u001b[0;36m_GeneratorContextManager.__exit__\u001b[0;34m(self, typ, value, traceback)\u001b[0m\n\u001b[1;32m    152\u001b[0m \u001b[38;5;28;01mtry\u001b[39;00m:\n\u001b[0;32m--> 153\u001b[0m     \u001b[38;5;28;43mself\u001b[39;49m\u001b[38;5;241;43m.\u001b[39;49m\u001b[43mgen\u001b[49m\u001b[38;5;241;43m.\u001b[39;49m\u001b[43mthrow\u001b[49m\u001b[43m(\u001b[49m\u001b[43mtyp\u001b[49m\u001b[43m,\u001b[49m\u001b[43m \u001b[49m\u001b[43mvalue\u001b[49m\u001b[43m,\u001b[49m\u001b[43m \u001b[49m\u001b[43mtraceback\u001b[49m\u001b[43m)\u001b[49m\n\u001b[1;32m    154\u001b[0m \u001b[38;5;28;01mexcept\u001b[39;00m \u001b[38;5;167;01mStopIteration\u001b[39;00m \u001b[38;5;28;01mas\u001b[39;00m exc:\n\u001b[1;32m    155\u001b[0m     \u001b[38;5;66;03m# Suppress StopIteration *unless* it's the same exception that\u001b[39;00m\n\u001b[1;32m    156\u001b[0m     \u001b[38;5;66;03m# was passed to throw().  This prevents a StopIteration\u001b[39;00m\n\u001b[1;32m    157\u001b[0m     \u001b[38;5;66;03m# raised inside the \"with\" statement from being suppressed.\u001b[39;00m\n",
      "File \u001b[0;32m~/miniconda3/envs/mi/lib/python3.10/site-packages/httpcore/_exceptions.py:14\u001b[0m, in \u001b[0;36mmap_exceptions\u001b[0;34m(map)\u001b[0m\n\u001b[1;32m     13\u001b[0m     \u001b[38;5;28;01mif\u001b[39;00m \u001b[38;5;28misinstance\u001b[39m(exc, from_exc):\n\u001b[0;32m---> 14\u001b[0m         \u001b[38;5;28;01mraise\u001b[39;00m to_exc(exc) \u001b[38;5;28;01mfrom\u001b[39;00m\u001b[38;5;250m \u001b[39m\u001b[38;5;21;01mexc\u001b[39;00m\n\u001b[1;32m     15\u001b[0m \u001b[38;5;28;01mraise\u001b[39;00m\n",
      "\u001b[0;31mConnectError\u001b[0m: [Errno 111] Connection refused",
      "\nThe above exception was the direct cause of the following exception:\n",
      "\u001b[0;31mConnectError\u001b[0m                              Traceback (most recent call last)",
      "File \u001b[0;32m~/miniconda3/envs/mi/lib/python3.10/site-packages/openai/_base_client.py:972\u001b[0m, in \u001b[0;36mSyncAPIClient.request\u001b[0;34m(self, cast_to, options, stream, stream_cls)\u001b[0m\n\u001b[1;32m    971\u001b[0m \u001b[38;5;28;01mtry\u001b[39;00m:\n\u001b[0;32m--> 972\u001b[0m     response \u001b[38;5;241m=\u001b[39m \u001b[38;5;28;43mself\u001b[39;49m\u001b[38;5;241;43m.\u001b[39;49m\u001b[43m_client\u001b[49m\u001b[38;5;241;43m.\u001b[39;49m\u001b[43msend\u001b[49m\u001b[43m(\u001b[49m\n\u001b[1;32m    973\u001b[0m \u001b[43m        \u001b[49m\u001b[43mrequest\u001b[49m\u001b[43m,\u001b[49m\n\u001b[1;32m    974\u001b[0m \u001b[43m        \u001b[49m\u001b[43mstream\u001b[49m\u001b[38;5;241;43m=\u001b[39;49m\u001b[43mstream\u001b[49m\u001b[43m \u001b[49m\u001b[38;5;129;43;01mor\u001b[39;49;00m\u001b[43m \u001b[49m\u001b[38;5;28;43mself\u001b[39;49m\u001b[38;5;241;43m.\u001b[39;49m\u001b[43m_should_stream_response_body\u001b[49m\u001b[43m(\u001b[49m\u001b[43mrequest\u001b[49m\u001b[38;5;241;43m=\u001b[39;49m\u001b[43mrequest\u001b[49m\u001b[43m)\u001b[49m\u001b[43m,\u001b[49m\n\u001b[1;32m    975\u001b[0m \u001b[43m        \u001b[49m\u001b[38;5;241;43m*\u001b[39;49m\u001b[38;5;241;43m*\u001b[39;49m\u001b[43mkwargs\u001b[49m\u001b[43m,\u001b[49m\n\u001b[1;32m    976\u001b[0m \u001b[43m    \u001b[49m\u001b[43m)\u001b[49m\n\u001b[1;32m    977\u001b[0m \u001b[38;5;28;01mexcept\u001b[39;00m httpx\u001b[38;5;241m.\u001b[39mTimeoutException \u001b[38;5;28;01mas\u001b[39;00m err:\n",
      "File \u001b[0;32m~/miniconda3/envs/mi/lib/python3.10/site-packages/httpx/_client.py:914\u001b[0m, in \u001b[0;36mClient.send\u001b[0;34m(self, request, stream, auth, follow_redirects)\u001b[0m\n\u001b[1;32m    912\u001b[0m auth \u001b[38;5;241m=\u001b[39m \u001b[38;5;28mself\u001b[39m\u001b[38;5;241m.\u001b[39m_build_request_auth(request, auth)\n\u001b[0;32m--> 914\u001b[0m response \u001b[38;5;241m=\u001b[39m \u001b[38;5;28;43mself\u001b[39;49m\u001b[38;5;241;43m.\u001b[39;49m\u001b[43m_send_handling_auth\u001b[49m\u001b[43m(\u001b[49m\n\u001b[1;32m    915\u001b[0m \u001b[43m    \u001b[49m\u001b[43mrequest\u001b[49m\u001b[43m,\u001b[49m\n\u001b[1;32m    916\u001b[0m \u001b[43m    \u001b[49m\u001b[43mauth\u001b[49m\u001b[38;5;241;43m=\u001b[39;49m\u001b[43mauth\u001b[49m\u001b[43m,\u001b[49m\n\u001b[1;32m    917\u001b[0m \u001b[43m    \u001b[49m\u001b[43mfollow_redirects\u001b[49m\u001b[38;5;241;43m=\u001b[39;49m\u001b[43mfollow_redirects\u001b[49m\u001b[43m,\u001b[49m\n\u001b[1;32m    918\u001b[0m \u001b[43m    \u001b[49m\u001b[43mhistory\u001b[49m\u001b[38;5;241;43m=\u001b[39;49m\u001b[43m[\u001b[49m\u001b[43m]\u001b[49m\u001b[43m,\u001b[49m\n\u001b[1;32m    919\u001b[0m \u001b[43m\u001b[49m\u001b[43m)\u001b[49m\n\u001b[1;32m    920\u001b[0m \u001b[38;5;28;01mtry\u001b[39;00m:\n",
      "File \u001b[0;32m~/miniconda3/envs/mi/lib/python3.10/site-packages/httpx/_client.py:942\u001b[0m, in \u001b[0;36mClient._send_handling_auth\u001b[0;34m(self, request, auth, follow_redirects, history)\u001b[0m\n\u001b[1;32m    941\u001b[0m \u001b[38;5;28;01mwhile\u001b[39;00m \u001b[38;5;28;01mTrue\u001b[39;00m:\n\u001b[0;32m--> 942\u001b[0m     response \u001b[38;5;241m=\u001b[39m \u001b[38;5;28;43mself\u001b[39;49m\u001b[38;5;241;43m.\u001b[39;49m\u001b[43m_send_handling_redirects\u001b[49m\u001b[43m(\u001b[49m\n\u001b[1;32m    943\u001b[0m \u001b[43m        \u001b[49m\u001b[43mrequest\u001b[49m\u001b[43m,\u001b[49m\n\u001b[1;32m    944\u001b[0m \u001b[43m        \u001b[49m\u001b[43mfollow_redirects\u001b[49m\u001b[38;5;241;43m=\u001b[39;49m\u001b[43mfollow_redirects\u001b[49m\u001b[43m,\u001b[49m\n\u001b[1;32m    945\u001b[0m \u001b[43m        \u001b[49m\u001b[43mhistory\u001b[49m\u001b[38;5;241;43m=\u001b[39;49m\u001b[43mhistory\u001b[49m\u001b[43m,\u001b[49m\n\u001b[1;32m    946\u001b[0m \u001b[43m    \u001b[49m\u001b[43m)\u001b[49m\n\u001b[1;32m    947\u001b[0m     \u001b[38;5;28;01mtry\u001b[39;00m:\n",
      "File \u001b[0;32m~/miniconda3/envs/mi/lib/python3.10/site-packages/httpx/_client.py:979\u001b[0m, in \u001b[0;36mClient._send_handling_redirects\u001b[0;34m(self, request, follow_redirects, history)\u001b[0m\n\u001b[1;32m    977\u001b[0m     hook(request)\n\u001b[0;32m--> 979\u001b[0m response \u001b[38;5;241m=\u001b[39m \u001b[38;5;28;43mself\u001b[39;49m\u001b[38;5;241;43m.\u001b[39;49m\u001b[43m_send_single_request\u001b[49m\u001b[43m(\u001b[49m\u001b[43mrequest\u001b[49m\u001b[43m)\u001b[49m\n\u001b[1;32m    980\u001b[0m \u001b[38;5;28;01mtry\u001b[39;00m:\n",
      "File \u001b[0;32m~/miniconda3/envs/mi/lib/python3.10/site-packages/httpx/_client.py:1014\u001b[0m, in \u001b[0;36mClient._send_single_request\u001b[0;34m(self, request)\u001b[0m\n\u001b[1;32m   1013\u001b[0m \u001b[38;5;28;01mwith\u001b[39;00m request_context(request\u001b[38;5;241m=\u001b[39mrequest):\n\u001b[0;32m-> 1014\u001b[0m     response \u001b[38;5;241m=\u001b[39m \u001b[43mtransport\u001b[49m\u001b[38;5;241;43m.\u001b[39;49m\u001b[43mhandle_request\u001b[49m\u001b[43m(\u001b[49m\u001b[43mrequest\u001b[49m\u001b[43m)\u001b[49m\n\u001b[1;32m   1016\u001b[0m \u001b[38;5;28;01massert\u001b[39;00m \u001b[38;5;28misinstance\u001b[39m(response\u001b[38;5;241m.\u001b[39mstream, SyncByteStream)\n",
      "File \u001b[0;32m~/miniconda3/envs/mi/lib/python3.10/site-packages/httpx/_transports/default.py:249\u001b[0m, in \u001b[0;36mHTTPTransport.handle_request\u001b[0;34m(self, request)\u001b[0m\n\u001b[1;32m    237\u001b[0m req \u001b[38;5;241m=\u001b[39m httpcore\u001b[38;5;241m.\u001b[39mRequest(\n\u001b[1;32m    238\u001b[0m     method\u001b[38;5;241m=\u001b[39mrequest\u001b[38;5;241m.\u001b[39mmethod,\n\u001b[1;32m    239\u001b[0m     url\u001b[38;5;241m=\u001b[39mhttpcore\u001b[38;5;241m.\u001b[39mURL(\n\u001b[0;32m   (...)\u001b[0m\n\u001b[1;32m    247\u001b[0m     extensions\u001b[38;5;241m=\u001b[39mrequest\u001b[38;5;241m.\u001b[39mextensions,\n\u001b[1;32m    248\u001b[0m )\n\u001b[0;32m--> 249\u001b[0m \u001b[38;5;28;01mwith\u001b[39;00m map_httpcore_exceptions():\n\u001b[1;32m    250\u001b[0m     resp \u001b[38;5;241m=\u001b[39m \u001b[38;5;28mself\u001b[39m\u001b[38;5;241m.\u001b[39m_pool\u001b[38;5;241m.\u001b[39mhandle_request(req)\n",
      "File \u001b[0;32m~/miniconda3/envs/mi/lib/python3.10/contextlib.py:153\u001b[0m, in \u001b[0;36m_GeneratorContextManager.__exit__\u001b[0;34m(self, typ, value, traceback)\u001b[0m\n\u001b[1;32m    152\u001b[0m \u001b[38;5;28;01mtry\u001b[39;00m:\n\u001b[0;32m--> 153\u001b[0m     \u001b[38;5;28;43mself\u001b[39;49m\u001b[38;5;241;43m.\u001b[39;49m\u001b[43mgen\u001b[49m\u001b[38;5;241;43m.\u001b[39;49m\u001b[43mthrow\u001b[49m\u001b[43m(\u001b[49m\u001b[43mtyp\u001b[49m\u001b[43m,\u001b[49m\u001b[43m \u001b[49m\u001b[43mvalue\u001b[49m\u001b[43m,\u001b[49m\u001b[43m \u001b[49m\u001b[43mtraceback\u001b[49m\u001b[43m)\u001b[49m\n\u001b[1;32m    154\u001b[0m \u001b[38;5;28;01mexcept\u001b[39;00m \u001b[38;5;167;01mStopIteration\u001b[39;00m \u001b[38;5;28;01mas\u001b[39;00m exc:\n\u001b[1;32m    155\u001b[0m     \u001b[38;5;66;03m# Suppress StopIteration *unless* it's the same exception that\u001b[39;00m\n\u001b[1;32m    156\u001b[0m     \u001b[38;5;66;03m# was passed to throw().  This prevents a StopIteration\u001b[39;00m\n\u001b[1;32m    157\u001b[0m     \u001b[38;5;66;03m# raised inside the \"with\" statement from being suppressed.\u001b[39;00m\n",
      "File \u001b[0;32m~/miniconda3/envs/mi/lib/python3.10/site-packages/httpx/_transports/default.py:118\u001b[0m, in \u001b[0;36mmap_httpcore_exceptions\u001b[0;34m()\u001b[0m\n\u001b[1;32m    117\u001b[0m message \u001b[38;5;241m=\u001b[39m \u001b[38;5;28mstr\u001b[39m(exc)\n\u001b[0;32m--> 118\u001b[0m \u001b[38;5;28;01mraise\u001b[39;00m mapped_exc(message) \u001b[38;5;28;01mfrom\u001b[39;00m\u001b[38;5;250m \u001b[39m\u001b[38;5;21;01mexc\u001b[39;00m\n",
      "\u001b[0;31mConnectError\u001b[0m: [Errno 111] Connection refused",
      "\nThe above exception was the direct cause of the following exception:\n",
      "\u001b[0;31mAPIConnectionError\u001b[0m                        Traceback (most recent call last)",
      "Cell \u001b[0;32mIn[18], line 1\u001b[0m\n\u001b[0;32m----> 1\u001b[0m \u001b[43mrun_router\u001b[49m\u001b[43m(\u001b[49m\u001b[38;5;124;43m\"\u001b[39;49m\u001b[38;5;124;43mwhats up\u001b[39;49m\u001b[38;5;124;43m\"\u001b[39;49m\u001b[43m)\u001b[49m\n",
      "Cell \u001b[0;32mIn[16], line 250\u001b[0m, in \u001b[0;36mrun_router\u001b[0;34m(query, context)\u001b[0m\n\u001b[1;32m    210\u001b[0m \u001b[38;5;28;01mdef\u001b[39;00m\u001b[38;5;250m \u001b[39m\u001b[38;5;21mrun_router\u001b[39m(query: \u001b[38;5;28mstr\u001b[39m, context: \u001b[38;5;28mstr\u001b[39m \u001b[38;5;241m=\u001b[39m memory\u001b[38;5;241m.\u001b[39mget_summaries()):\n\u001b[1;32m    212\u001b[0m     router_prompt \u001b[38;5;241m=\u001b[39m \u001b[38;5;124mf\u001b[39m\u001b[38;5;124m\"\"\"\u001b[39m\n\u001b[1;32m    213\u001b[0m \u001b[38;5;124m    \u001b[39m\n\u001b[1;32m    214\u001b[0m \u001b[38;5;124mYou are a router agent. Your job is to classify the query into one of two pipelines.\u001b[39m\n\u001b[0;32m   (...)\u001b[0m\n\u001b[1;32m    247\u001b[0m \n\u001b[1;32m    248\u001b[0m \u001b[38;5;124m\"\"\"\u001b[39m\n\u001b[0;32m--> 250\u001b[0m     result \u001b[38;5;241m=\u001b[39m \u001b[43mreasoning_llm\u001b[49m\u001b[38;5;241;43m.\u001b[39;49m\u001b[43minvoke\u001b[49m\u001b[43m(\u001b[49m\u001b[43m[\u001b[49m\n\u001b[1;32m    251\u001b[0m \n\u001b[1;32m    252\u001b[0m \u001b[43m            \u001b[49m\u001b[43m{\u001b[49m\u001b[38;5;124;43m\"\u001b[39;49m\u001b[38;5;124;43mrole\u001b[39;49m\u001b[38;5;124;43m\"\u001b[39;49m\u001b[43m:\u001b[49m\u001b[43m \u001b[49m\u001b[38;5;124;43m\"\u001b[39;49m\u001b[38;5;124;43msystem\u001b[39;49m\u001b[38;5;124;43m\"\u001b[39;49m\u001b[43m,\u001b[49m\u001b[43m \u001b[49m\u001b[38;5;124;43m\"\u001b[39;49m\u001b[38;5;124;43mcontent\u001b[39;49m\u001b[38;5;124;43m\"\u001b[39;49m\u001b[43m:\u001b[49m\u001b[43m \u001b[49m\u001b[43mrouter_prompt\u001b[49m\u001b[43m}\u001b[49m\u001b[43m,\u001b[49m\n\u001b[1;32m    253\u001b[0m \u001b[43m            \u001b[49m\u001b[43m{\u001b[49m\u001b[38;5;124;43m\"\u001b[39;49m\u001b[38;5;124;43mrole\u001b[39;49m\u001b[38;5;124;43m\"\u001b[39;49m\u001b[43m:\u001b[49m\u001b[43m \u001b[49m\u001b[38;5;124;43m\"\u001b[39;49m\u001b[38;5;124;43muser\u001b[39;49m\u001b[38;5;124;43m\"\u001b[39;49m\u001b[43m,\u001b[49m\u001b[43m \u001b[49m\u001b[38;5;124;43m\"\u001b[39;49m\u001b[38;5;124;43mcontent\u001b[39;49m\u001b[38;5;124;43m\"\u001b[39;49m\u001b[43m:\u001b[49m\u001b[43m \u001b[49m\u001b[38;5;124;43mf\u001b[39;49m\u001b[38;5;124;43m\"\u001b[39;49m\u001b[38;5;124;43mThe Query to be routed is: \u001b[39;49m\u001b[38;5;132;43;01m{\u001b[39;49;00m\u001b[43mquery\u001b[49m\u001b[38;5;132;43;01m}\u001b[39;49;00m\u001b[38;5;124;43m\"\u001b[39;49m\u001b[43m}\u001b[49m\n\u001b[1;32m    254\u001b[0m \n\u001b[1;32m    255\u001b[0m \u001b[43m        \u001b[49m\u001b[43m]\u001b[49m\u001b[43m)\u001b[49m\n\u001b[1;32m    257\u001b[0m     \u001b[38;5;28;01mreturn\u001b[39;00m result\u001b[38;5;241m.\u001b[39mcontent\n",
      "File \u001b[0;32m~/miniconda3/envs/mi/lib/python3.10/site-packages/langchain_core/language_models/chat_models.py:378\u001b[0m, in \u001b[0;36mBaseChatModel.invoke\u001b[0;34m(self, input, config, stop, **kwargs)\u001b[0m\n\u001b[1;32m    366\u001b[0m \u001b[38;5;129m@override\u001b[39m\n\u001b[1;32m    367\u001b[0m \u001b[38;5;28;01mdef\u001b[39;00m\u001b[38;5;250m \u001b[39m\u001b[38;5;21minvoke\u001b[39m(\n\u001b[1;32m    368\u001b[0m     \u001b[38;5;28mself\u001b[39m,\n\u001b[0;32m   (...)\u001b[0m\n\u001b[1;32m    373\u001b[0m     \u001b[38;5;241m*\u001b[39m\u001b[38;5;241m*\u001b[39mkwargs: Any,\n\u001b[1;32m    374\u001b[0m ) \u001b[38;5;241m-\u001b[39m\u001b[38;5;241m>\u001b[39m BaseMessage:\n\u001b[1;32m    375\u001b[0m     config \u001b[38;5;241m=\u001b[39m ensure_config(config)\n\u001b[1;32m    376\u001b[0m     \u001b[38;5;28;01mreturn\u001b[39;00m cast(\n\u001b[1;32m    377\u001b[0m         \u001b[38;5;124m\"\u001b[39m\u001b[38;5;124mChatGeneration\u001b[39m\u001b[38;5;124m\"\u001b[39m,\n\u001b[0;32m--> 378\u001b[0m         \u001b[38;5;28;43mself\u001b[39;49m\u001b[38;5;241;43m.\u001b[39;49m\u001b[43mgenerate_prompt\u001b[49m\u001b[43m(\u001b[49m\n\u001b[1;32m    379\u001b[0m \u001b[43m            \u001b[49m\u001b[43m[\u001b[49m\u001b[38;5;28;43mself\u001b[39;49m\u001b[38;5;241;43m.\u001b[39;49m\u001b[43m_convert_input\u001b[49m\u001b[43m(\u001b[49m\u001b[38;5;28;43minput\u001b[39;49m\u001b[43m)\u001b[49m\u001b[43m]\u001b[49m\u001b[43m,\u001b[49m\n\u001b[1;32m    380\u001b[0m \u001b[43m            \u001b[49m\u001b[43mstop\u001b[49m\u001b[38;5;241;43m=\u001b[39;49m\u001b[43mstop\u001b[49m\u001b[43m,\u001b[49m\n\u001b[1;32m    381\u001b[0m \u001b[43m            \u001b[49m\u001b[43mcallbacks\u001b[49m\u001b[38;5;241;43m=\u001b[39;49m\u001b[43mconfig\u001b[49m\u001b[38;5;241;43m.\u001b[39;49m\u001b[43mget\u001b[49m\u001b[43m(\u001b[49m\u001b[38;5;124;43m\"\u001b[39;49m\u001b[38;5;124;43mcallbacks\u001b[39;49m\u001b[38;5;124;43m\"\u001b[39;49m\u001b[43m)\u001b[49m\u001b[43m,\u001b[49m\n\u001b[1;32m    382\u001b[0m \u001b[43m            \u001b[49m\u001b[43mtags\u001b[49m\u001b[38;5;241;43m=\u001b[39;49m\u001b[43mconfig\u001b[49m\u001b[38;5;241;43m.\u001b[39;49m\u001b[43mget\u001b[49m\u001b[43m(\u001b[49m\u001b[38;5;124;43m\"\u001b[39;49m\u001b[38;5;124;43mtags\u001b[39;49m\u001b[38;5;124;43m\"\u001b[39;49m\u001b[43m)\u001b[49m\u001b[43m,\u001b[49m\n\u001b[1;32m    383\u001b[0m \u001b[43m            \u001b[49m\u001b[43mmetadata\u001b[49m\u001b[38;5;241;43m=\u001b[39;49m\u001b[43mconfig\u001b[49m\u001b[38;5;241;43m.\u001b[39;49m\u001b[43mget\u001b[49m\u001b[43m(\u001b[49m\u001b[38;5;124;43m\"\u001b[39;49m\u001b[38;5;124;43mmetadata\u001b[39;49m\u001b[38;5;124;43m\"\u001b[39;49m\u001b[43m)\u001b[49m\u001b[43m,\u001b[49m\n\u001b[1;32m    384\u001b[0m \u001b[43m            \u001b[49m\u001b[43mrun_name\u001b[49m\u001b[38;5;241;43m=\u001b[39;49m\u001b[43mconfig\u001b[49m\u001b[38;5;241;43m.\u001b[39;49m\u001b[43mget\u001b[49m\u001b[43m(\u001b[49m\u001b[38;5;124;43m\"\u001b[39;49m\u001b[38;5;124;43mrun_name\u001b[39;49m\u001b[38;5;124;43m\"\u001b[39;49m\u001b[43m)\u001b[49m\u001b[43m,\u001b[49m\n\u001b[1;32m    385\u001b[0m \u001b[43m            \u001b[49m\u001b[43mrun_id\u001b[49m\u001b[38;5;241;43m=\u001b[39;49m\u001b[43mconfig\u001b[49m\u001b[38;5;241;43m.\u001b[39;49m\u001b[43mpop\u001b[49m\u001b[43m(\u001b[49m\u001b[38;5;124;43m\"\u001b[39;49m\u001b[38;5;124;43mrun_id\u001b[39;49m\u001b[38;5;124;43m\"\u001b[39;49m\u001b[43m,\u001b[49m\u001b[43m \u001b[49m\u001b[38;5;28;43;01mNone\u001b[39;49;00m\u001b[43m)\u001b[49m\u001b[43m,\u001b[49m\n\u001b[1;32m    386\u001b[0m \u001b[43m            \u001b[49m\u001b[38;5;241;43m*\u001b[39;49m\u001b[38;5;241;43m*\u001b[39;49m\u001b[43mkwargs\u001b[49m\u001b[43m,\u001b[49m\n\u001b[1;32m    387\u001b[0m \u001b[43m        \u001b[49m\u001b[43m)\u001b[49m\u001b[38;5;241m.\u001b[39mgenerations[\u001b[38;5;241m0\u001b[39m][\u001b[38;5;241m0\u001b[39m],\n\u001b[1;32m    388\u001b[0m     )\u001b[38;5;241m.\u001b[39mmessage\n",
      "File \u001b[0;32m~/miniconda3/envs/mi/lib/python3.10/site-packages/langchain_core/language_models/chat_models.py:963\u001b[0m, in \u001b[0;36mBaseChatModel.generate_prompt\u001b[0;34m(self, prompts, stop, callbacks, **kwargs)\u001b[0m\n\u001b[1;32m    954\u001b[0m \u001b[38;5;129m@override\u001b[39m\n\u001b[1;32m    955\u001b[0m \u001b[38;5;28;01mdef\u001b[39;00m\u001b[38;5;250m \u001b[39m\u001b[38;5;21mgenerate_prompt\u001b[39m(\n\u001b[1;32m    956\u001b[0m     \u001b[38;5;28mself\u001b[39m,\n\u001b[0;32m   (...)\u001b[0m\n\u001b[1;32m    960\u001b[0m     \u001b[38;5;241m*\u001b[39m\u001b[38;5;241m*\u001b[39mkwargs: Any,\n\u001b[1;32m    961\u001b[0m ) \u001b[38;5;241m-\u001b[39m\u001b[38;5;241m>\u001b[39m LLMResult:\n\u001b[1;32m    962\u001b[0m     prompt_messages \u001b[38;5;241m=\u001b[39m [p\u001b[38;5;241m.\u001b[39mto_messages() \u001b[38;5;28;01mfor\u001b[39;00m p \u001b[38;5;129;01min\u001b[39;00m prompts]\n\u001b[0;32m--> 963\u001b[0m     \u001b[38;5;28;01mreturn\u001b[39;00m \u001b[38;5;28;43mself\u001b[39;49m\u001b[38;5;241;43m.\u001b[39;49m\u001b[43mgenerate\u001b[49m\u001b[43m(\u001b[49m\u001b[43mprompt_messages\u001b[49m\u001b[43m,\u001b[49m\u001b[43m \u001b[49m\u001b[43mstop\u001b[49m\u001b[38;5;241;43m=\u001b[39;49m\u001b[43mstop\u001b[49m\u001b[43m,\u001b[49m\u001b[43m \u001b[49m\u001b[43mcallbacks\u001b[49m\u001b[38;5;241;43m=\u001b[39;49m\u001b[43mcallbacks\u001b[49m\u001b[43m,\u001b[49m\u001b[43m \u001b[49m\u001b[38;5;241;43m*\u001b[39;49m\u001b[38;5;241;43m*\u001b[39;49m\u001b[43mkwargs\u001b[49m\u001b[43m)\u001b[49m\n",
      "File \u001b[0;32m~/miniconda3/envs/mi/lib/python3.10/site-packages/langchain_core/language_models/chat_models.py:782\u001b[0m, in \u001b[0;36mBaseChatModel.generate\u001b[0;34m(self, messages, stop, callbacks, tags, metadata, run_name, run_id, **kwargs)\u001b[0m\n\u001b[1;32m    779\u001b[0m \u001b[38;5;28;01mfor\u001b[39;00m i, m \u001b[38;5;129;01min\u001b[39;00m \u001b[38;5;28menumerate\u001b[39m(input_messages):\n\u001b[1;32m    780\u001b[0m     \u001b[38;5;28;01mtry\u001b[39;00m:\n\u001b[1;32m    781\u001b[0m         results\u001b[38;5;241m.\u001b[39mappend(\n\u001b[0;32m--> 782\u001b[0m             \u001b[38;5;28;43mself\u001b[39;49m\u001b[38;5;241;43m.\u001b[39;49m\u001b[43m_generate_with_cache\u001b[49m\u001b[43m(\u001b[49m\n\u001b[1;32m    783\u001b[0m \u001b[43m                \u001b[49m\u001b[43mm\u001b[49m\u001b[43m,\u001b[49m\n\u001b[1;32m    784\u001b[0m \u001b[43m                \u001b[49m\u001b[43mstop\u001b[49m\u001b[38;5;241;43m=\u001b[39;49m\u001b[43mstop\u001b[49m\u001b[43m,\u001b[49m\n\u001b[1;32m    785\u001b[0m \u001b[43m                \u001b[49m\u001b[43mrun_manager\u001b[49m\u001b[38;5;241;43m=\u001b[39;49m\u001b[43mrun_managers\u001b[49m\u001b[43m[\u001b[49m\u001b[43mi\u001b[49m\u001b[43m]\u001b[49m\u001b[43m \u001b[49m\u001b[38;5;28;43;01mif\u001b[39;49;00m\u001b[43m \u001b[49m\u001b[43mrun_managers\u001b[49m\u001b[43m \u001b[49m\u001b[38;5;28;43;01melse\u001b[39;49;00m\u001b[43m \u001b[49m\u001b[38;5;28;43;01mNone\u001b[39;49;00m\u001b[43m,\u001b[49m\n\u001b[1;32m    786\u001b[0m \u001b[43m                \u001b[49m\u001b[38;5;241;43m*\u001b[39;49m\u001b[38;5;241;43m*\u001b[39;49m\u001b[43mkwargs\u001b[49m\u001b[43m,\u001b[49m\n\u001b[1;32m    787\u001b[0m \u001b[43m            \u001b[49m\u001b[43m)\u001b[49m\n\u001b[1;32m    788\u001b[0m         )\n\u001b[1;32m    789\u001b[0m     \u001b[38;5;28;01mexcept\u001b[39;00m \u001b[38;5;167;01mBaseException\u001b[39;00m \u001b[38;5;28;01mas\u001b[39;00m e:\n\u001b[1;32m    790\u001b[0m         \u001b[38;5;28;01mif\u001b[39;00m run_managers:\n",
      "File \u001b[0;32m~/miniconda3/envs/mi/lib/python3.10/site-packages/langchain_core/language_models/chat_models.py:1028\u001b[0m, in \u001b[0;36mBaseChatModel._generate_with_cache\u001b[0;34m(self, messages, stop, run_manager, **kwargs)\u001b[0m\n\u001b[1;32m   1026\u001b[0m     result \u001b[38;5;241m=\u001b[39m generate_from_stream(\u001b[38;5;28miter\u001b[39m(chunks))\n\u001b[1;32m   1027\u001b[0m \u001b[38;5;28;01melif\u001b[39;00m inspect\u001b[38;5;241m.\u001b[39msignature(\u001b[38;5;28mself\u001b[39m\u001b[38;5;241m.\u001b[39m_generate)\u001b[38;5;241m.\u001b[39mparameters\u001b[38;5;241m.\u001b[39mget(\u001b[38;5;124m\"\u001b[39m\u001b[38;5;124mrun_manager\u001b[39m\u001b[38;5;124m\"\u001b[39m):\n\u001b[0;32m-> 1028\u001b[0m     result \u001b[38;5;241m=\u001b[39m \u001b[38;5;28;43mself\u001b[39;49m\u001b[38;5;241;43m.\u001b[39;49m\u001b[43m_generate\u001b[49m\u001b[43m(\u001b[49m\n\u001b[1;32m   1029\u001b[0m \u001b[43m        \u001b[49m\u001b[43mmessages\u001b[49m\u001b[43m,\u001b[49m\u001b[43m \u001b[49m\u001b[43mstop\u001b[49m\u001b[38;5;241;43m=\u001b[39;49m\u001b[43mstop\u001b[49m\u001b[43m,\u001b[49m\u001b[43m \u001b[49m\u001b[43mrun_manager\u001b[49m\u001b[38;5;241;43m=\u001b[39;49m\u001b[43mrun_manager\u001b[49m\u001b[43m,\u001b[49m\u001b[43m \u001b[49m\u001b[38;5;241;43m*\u001b[39;49m\u001b[38;5;241;43m*\u001b[39;49m\u001b[43mkwargs\u001b[49m\n\u001b[1;32m   1030\u001b[0m \u001b[43m    \u001b[49m\u001b[43m)\u001b[49m\n\u001b[1;32m   1031\u001b[0m \u001b[38;5;28;01melse\u001b[39;00m:\n\u001b[1;32m   1032\u001b[0m     result \u001b[38;5;241m=\u001b[39m \u001b[38;5;28mself\u001b[39m\u001b[38;5;241m.\u001b[39m_generate(messages, stop\u001b[38;5;241m=\u001b[39mstop, \u001b[38;5;241m*\u001b[39m\u001b[38;5;241m*\u001b[39mkwargs)\n",
      "File \u001b[0;32m~/miniconda3/envs/mi/lib/python3.10/site-packages/langchain_openai/chat_models/base.py:1130\u001b[0m, in \u001b[0;36mBaseChatOpenAI._generate\u001b[0;34m(self, messages, stop, run_manager, **kwargs)\u001b[0m\n\u001b[1;32m   1128\u001b[0m     generation_info \u001b[38;5;241m=\u001b[39m {\u001b[38;5;124m\"\u001b[39m\u001b[38;5;124mheaders\u001b[39m\u001b[38;5;124m\"\u001b[39m: \u001b[38;5;28mdict\u001b[39m(raw_response\u001b[38;5;241m.\u001b[39mheaders)}\n\u001b[1;32m   1129\u001b[0m \u001b[38;5;28;01melse\u001b[39;00m:\n\u001b[0;32m-> 1130\u001b[0m     response \u001b[38;5;241m=\u001b[39m \u001b[38;5;28;43mself\u001b[39;49m\u001b[38;5;241;43m.\u001b[39;49m\u001b[43mclient\u001b[49m\u001b[38;5;241;43m.\u001b[39;49m\u001b[43mcreate\u001b[49m\u001b[43m(\u001b[49m\u001b[38;5;241;43m*\u001b[39;49m\u001b[38;5;241;43m*\u001b[39;49m\u001b[43mpayload\u001b[49m\u001b[43m)\u001b[49m\n\u001b[1;32m   1131\u001b[0m \u001b[38;5;28;01mreturn\u001b[39;00m \u001b[38;5;28mself\u001b[39m\u001b[38;5;241m.\u001b[39m_create_chat_result(response, generation_info)\n",
      "File \u001b[0;32m~/miniconda3/envs/mi/lib/python3.10/site-packages/openai/_utils/_utils.py:287\u001b[0m, in \u001b[0;36mrequired_args.<locals>.inner.<locals>.wrapper\u001b[0;34m(*args, **kwargs)\u001b[0m\n\u001b[1;32m    285\u001b[0m             msg \u001b[38;5;241m=\u001b[39m \u001b[38;5;124mf\u001b[39m\u001b[38;5;124m\"\u001b[39m\u001b[38;5;124mMissing required argument: \u001b[39m\u001b[38;5;132;01m{\u001b[39;00mquote(missing[\u001b[38;5;241m0\u001b[39m])\u001b[38;5;132;01m}\u001b[39;00m\u001b[38;5;124m\"\u001b[39m\n\u001b[1;32m    286\u001b[0m     \u001b[38;5;28;01mraise\u001b[39;00m \u001b[38;5;167;01mTypeError\u001b[39;00m(msg)\n\u001b[0;32m--> 287\u001b[0m \u001b[38;5;28;01mreturn\u001b[39;00m \u001b[43mfunc\u001b[49m\u001b[43m(\u001b[49m\u001b[38;5;241;43m*\u001b[39;49m\u001b[43margs\u001b[49m\u001b[43m,\u001b[49m\u001b[43m \u001b[49m\u001b[38;5;241;43m*\u001b[39;49m\u001b[38;5;241;43m*\u001b[39;49m\u001b[43mkwargs\u001b[49m\u001b[43m)\u001b[49m\n",
      "File \u001b[0;32m~/miniconda3/envs/mi/lib/python3.10/site-packages/openai/resources/chat/completions/completions.py:1087\u001b[0m, in \u001b[0;36mCompletions.create\u001b[0;34m(self, messages, model, audio, frequency_penalty, function_call, functions, logit_bias, logprobs, max_completion_tokens, max_tokens, metadata, modalities, n, parallel_tool_calls, prediction, presence_penalty, reasoning_effort, response_format, seed, service_tier, stop, store, stream, stream_options, temperature, tool_choice, tools, top_logprobs, top_p, user, web_search_options, extra_headers, extra_query, extra_body, timeout)\u001b[0m\n\u001b[1;32m   1044\u001b[0m \u001b[38;5;129m@required_args\u001b[39m([\u001b[38;5;124m\"\u001b[39m\u001b[38;5;124mmessages\u001b[39m\u001b[38;5;124m\"\u001b[39m, \u001b[38;5;124m\"\u001b[39m\u001b[38;5;124mmodel\u001b[39m\u001b[38;5;124m\"\u001b[39m], [\u001b[38;5;124m\"\u001b[39m\u001b[38;5;124mmessages\u001b[39m\u001b[38;5;124m\"\u001b[39m, \u001b[38;5;124m\"\u001b[39m\u001b[38;5;124mmodel\u001b[39m\u001b[38;5;124m\"\u001b[39m, \u001b[38;5;124m\"\u001b[39m\u001b[38;5;124mstream\u001b[39m\u001b[38;5;124m\"\u001b[39m])\n\u001b[1;32m   1045\u001b[0m \u001b[38;5;28;01mdef\u001b[39;00m\u001b[38;5;250m \u001b[39m\u001b[38;5;21mcreate\u001b[39m(\n\u001b[1;32m   1046\u001b[0m     \u001b[38;5;28mself\u001b[39m,\n\u001b[0;32m   (...)\u001b[0m\n\u001b[1;32m   1084\u001b[0m     timeout: \u001b[38;5;28mfloat\u001b[39m \u001b[38;5;241m|\u001b[39m httpx\u001b[38;5;241m.\u001b[39mTimeout \u001b[38;5;241m|\u001b[39m \u001b[38;5;28;01mNone\u001b[39;00m \u001b[38;5;241m|\u001b[39m NotGiven \u001b[38;5;241m=\u001b[39m NOT_GIVEN,\n\u001b[1;32m   1085\u001b[0m ) \u001b[38;5;241m-\u001b[39m\u001b[38;5;241m>\u001b[39m ChatCompletion \u001b[38;5;241m|\u001b[39m Stream[ChatCompletionChunk]:\n\u001b[1;32m   1086\u001b[0m     validate_response_format(response_format)\n\u001b[0;32m-> 1087\u001b[0m     \u001b[38;5;28;01mreturn\u001b[39;00m \u001b[38;5;28;43mself\u001b[39;49m\u001b[38;5;241;43m.\u001b[39;49m\u001b[43m_post\u001b[49m\u001b[43m(\u001b[49m\n\u001b[1;32m   1088\u001b[0m \u001b[43m        \u001b[49m\u001b[38;5;124;43m\"\u001b[39;49m\u001b[38;5;124;43m/chat/completions\u001b[39;49m\u001b[38;5;124;43m\"\u001b[39;49m\u001b[43m,\u001b[49m\n\u001b[1;32m   1089\u001b[0m \u001b[43m        \u001b[49m\u001b[43mbody\u001b[49m\u001b[38;5;241;43m=\u001b[39;49m\u001b[43mmaybe_transform\u001b[49m\u001b[43m(\u001b[49m\n\u001b[1;32m   1090\u001b[0m \u001b[43m            \u001b[49m\u001b[43m{\u001b[49m\n\u001b[1;32m   1091\u001b[0m \u001b[43m                \u001b[49m\u001b[38;5;124;43m\"\u001b[39;49m\u001b[38;5;124;43mmessages\u001b[39;49m\u001b[38;5;124;43m\"\u001b[39;49m\u001b[43m:\u001b[49m\u001b[43m \u001b[49m\u001b[43mmessages\u001b[49m\u001b[43m,\u001b[49m\n\u001b[1;32m   1092\u001b[0m \u001b[43m                \u001b[49m\u001b[38;5;124;43m\"\u001b[39;49m\u001b[38;5;124;43mmodel\u001b[39;49m\u001b[38;5;124;43m\"\u001b[39;49m\u001b[43m:\u001b[49m\u001b[43m \u001b[49m\u001b[43mmodel\u001b[49m\u001b[43m,\u001b[49m\n\u001b[1;32m   1093\u001b[0m \u001b[43m                \u001b[49m\u001b[38;5;124;43m\"\u001b[39;49m\u001b[38;5;124;43maudio\u001b[39;49m\u001b[38;5;124;43m\"\u001b[39;49m\u001b[43m:\u001b[49m\u001b[43m \u001b[49m\u001b[43maudio\u001b[49m\u001b[43m,\u001b[49m\n\u001b[1;32m   1094\u001b[0m \u001b[43m                \u001b[49m\u001b[38;5;124;43m\"\u001b[39;49m\u001b[38;5;124;43mfrequency_penalty\u001b[39;49m\u001b[38;5;124;43m\"\u001b[39;49m\u001b[43m:\u001b[49m\u001b[43m \u001b[49m\u001b[43mfrequency_penalty\u001b[49m\u001b[43m,\u001b[49m\n\u001b[1;32m   1095\u001b[0m \u001b[43m                \u001b[49m\u001b[38;5;124;43m\"\u001b[39;49m\u001b[38;5;124;43mfunction_call\u001b[39;49m\u001b[38;5;124;43m\"\u001b[39;49m\u001b[43m:\u001b[49m\u001b[43m \u001b[49m\u001b[43mfunction_call\u001b[49m\u001b[43m,\u001b[49m\n\u001b[1;32m   1096\u001b[0m \u001b[43m                \u001b[49m\u001b[38;5;124;43m\"\u001b[39;49m\u001b[38;5;124;43mfunctions\u001b[39;49m\u001b[38;5;124;43m\"\u001b[39;49m\u001b[43m:\u001b[49m\u001b[43m \u001b[49m\u001b[43mfunctions\u001b[49m\u001b[43m,\u001b[49m\n\u001b[1;32m   1097\u001b[0m \u001b[43m                \u001b[49m\u001b[38;5;124;43m\"\u001b[39;49m\u001b[38;5;124;43mlogit_bias\u001b[39;49m\u001b[38;5;124;43m\"\u001b[39;49m\u001b[43m:\u001b[49m\u001b[43m \u001b[49m\u001b[43mlogit_bias\u001b[49m\u001b[43m,\u001b[49m\n\u001b[1;32m   1098\u001b[0m \u001b[43m                \u001b[49m\u001b[38;5;124;43m\"\u001b[39;49m\u001b[38;5;124;43mlogprobs\u001b[39;49m\u001b[38;5;124;43m\"\u001b[39;49m\u001b[43m:\u001b[49m\u001b[43m \u001b[49m\u001b[43mlogprobs\u001b[49m\u001b[43m,\u001b[49m\n\u001b[1;32m   1099\u001b[0m \u001b[43m                \u001b[49m\u001b[38;5;124;43m\"\u001b[39;49m\u001b[38;5;124;43mmax_completion_tokens\u001b[39;49m\u001b[38;5;124;43m\"\u001b[39;49m\u001b[43m:\u001b[49m\u001b[43m \u001b[49m\u001b[43mmax_completion_tokens\u001b[49m\u001b[43m,\u001b[49m\n\u001b[1;32m   1100\u001b[0m \u001b[43m                \u001b[49m\u001b[38;5;124;43m\"\u001b[39;49m\u001b[38;5;124;43mmax_tokens\u001b[39;49m\u001b[38;5;124;43m\"\u001b[39;49m\u001b[43m:\u001b[49m\u001b[43m \u001b[49m\u001b[43mmax_tokens\u001b[49m\u001b[43m,\u001b[49m\n\u001b[1;32m   1101\u001b[0m \u001b[43m                \u001b[49m\u001b[38;5;124;43m\"\u001b[39;49m\u001b[38;5;124;43mmetadata\u001b[39;49m\u001b[38;5;124;43m\"\u001b[39;49m\u001b[43m:\u001b[49m\u001b[43m \u001b[49m\u001b[43mmetadata\u001b[49m\u001b[43m,\u001b[49m\n\u001b[1;32m   1102\u001b[0m \u001b[43m                \u001b[49m\u001b[38;5;124;43m\"\u001b[39;49m\u001b[38;5;124;43mmodalities\u001b[39;49m\u001b[38;5;124;43m\"\u001b[39;49m\u001b[43m:\u001b[49m\u001b[43m \u001b[49m\u001b[43mmodalities\u001b[49m\u001b[43m,\u001b[49m\n\u001b[1;32m   1103\u001b[0m \u001b[43m                \u001b[49m\u001b[38;5;124;43m\"\u001b[39;49m\u001b[38;5;124;43mn\u001b[39;49m\u001b[38;5;124;43m\"\u001b[39;49m\u001b[43m:\u001b[49m\u001b[43m \u001b[49m\u001b[43mn\u001b[49m\u001b[43m,\u001b[49m\n\u001b[1;32m   1104\u001b[0m \u001b[43m                \u001b[49m\u001b[38;5;124;43m\"\u001b[39;49m\u001b[38;5;124;43mparallel_tool_calls\u001b[39;49m\u001b[38;5;124;43m\"\u001b[39;49m\u001b[43m:\u001b[49m\u001b[43m \u001b[49m\u001b[43mparallel_tool_calls\u001b[49m\u001b[43m,\u001b[49m\n\u001b[1;32m   1105\u001b[0m \u001b[43m                \u001b[49m\u001b[38;5;124;43m\"\u001b[39;49m\u001b[38;5;124;43mprediction\u001b[39;49m\u001b[38;5;124;43m\"\u001b[39;49m\u001b[43m:\u001b[49m\u001b[43m \u001b[49m\u001b[43mprediction\u001b[49m\u001b[43m,\u001b[49m\n\u001b[1;32m   1106\u001b[0m \u001b[43m                \u001b[49m\u001b[38;5;124;43m\"\u001b[39;49m\u001b[38;5;124;43mpresence_penalty\u001b[39;49m\u001b[38;5;124;43m\"\u001b[39;49m\u001b[43m:\u001b[49m\u001b[43m \u001b[49m\u001b[43mpresence_penalty\u001b[49m\u001b[43m,\u001b[49m\n\u001b[1;32m   1107\u001b[0m \u001b[43m                \u001b[49m\u001b[38;5;124;43m\"\u001b[39;49m\u001b[38;5;124;43mreasoning_effort\u001b[39;49m\u001b[38;5;124;43m\"\u001b[39;49m\u001b[43m:\u001b[49m\u001b[43m \u001b[49m\u001b[43mreasoning_effort\u001b[49m\u001b[43m,\u001b[49m\n\u001b[1;32m   1108\u001b[0m \u001b[43m                \u001b[49m\u001b[38;5;124;43m\"\u001b[39;49m\u001b[38;5;124;43mresponse_format\u001b[39;49m\u001b[38;5;124;43m\"\u001b[39;49m\u001b[43m:\u001b[49m\u001b[43m \u001b[49m\u001b[43mresponse_format\u001b[49m\u001b[43m,\u001b[49m\n\u001b[1;32m   1109\u001b[0m \u001b[43m                \u001b[49m\u001b[38;5;124;43m\"\u001b[39;49m\u001b[38;5;124;43mseed\u001b[39;49m\u001b[38;5;124;43m\"\u001b[39;49m\u001b[43m:\u001b[49m\u001b[43m \u001b[49m\u001b[43mseed\u001b[49m\u001b[43m,\u001b[49m\n\u001b[1;32m   1110\u001b[0m \u001b[43m                \u001b[49m\u001b[38;5;124;43m\"\u001b[39;49m\u001b[38;5;124;43mservice_tier\u001b[39;49m\u001b[38;5;124;43m\"\u001b[39;49m\u001b[43m:\u001b[49m\u001b[43m \u001b[49m\u001b[43mservice_tier\u001b[49m\u001b[43m,\u001b[49m\n\u001b[1;32m   1111\u001b[0m \u001b[43m                \u001b[49m\u001b[38;5;124;43m\"\u001b[39;49m\u001b[38;5;124;43mstop\u001b[39;49m\u001b[38;5;124;43m\"\u001b[39;49m\u001b[43m:\u001b[49m\u001b[43m \u001b[49m\u001b[43mstop\u001b[49m\u001b[43m,\u001b[49m\n\u001b[1;32m   1112\u001b[0m \u001b[43m                \u001b[49m\u001b[38;5;124;43m\"\u001b[39;49m\u001b[38;5;124;43mstore\u001b[39;49m\u001b[38;5;124;43m\"\u001b[39;49m\u001b[43m:\u001b[49m\u001b[43m \u001b[49m\u001b[43mstore\u001b[49m\u001b[43m,\u001b[49m\n\u001b[1;32m   1113\u001b[0m \u001b[43m                \u001b[49m\u001b[38;5;124;43m\"\u001b[39;49m\u001b[38;5;124;43mstream\u001b[39;49m\u001b[38;5;124;43m\"\u001b[39;49m\u001b[43m:\u001b[49m\u001b[43m \u001b[49m\u001b[43mstream\u001b[49m\u001b[43m,\u001b[49m\n\u001b[1;32m   1114\u001b[0m \u001b[43m                \u001b[49m\u001b[38;5;124;43m\"\u001b[39;49m\u001b[38;5;124;43mstream_options\u001b[39;49m\u001b[38;5;124;43m\"\u001b[39;49m\u001b[43m:\u001b[49m\u001b[43m \u001b[49m\u001b[43mstream_options\u001b[49m\u001b[43m,\u001b[49m\n\u001b[1;32m   1115\u001b[0m \u001b[43m                \u001b[49m\u001b[38;5;124;43m\"\u001b[39;49m\u001b[38;5;124;43mtemperature\u001b[39;49m\u001b[38;5;124;43m\"\u001b[39;49m\u001b[43m:\u001b[49m\u001b[43m \u001b[49m\u001b[43mtemperature\u001b[49m\u001b[43m,\u001b[49m\n\u001b[1;32m   1116\u001b[0m \u001b[43m                \u001b[49m\u001b[38;5;124;43m\"\u001b[39;49m\u001b[38;5;124;43mtool_choice\u001b[39;49m\u001b[38;5;124;43m\"\u001b[39;49m\u001b[43m:\u001b[49m\u001b[43m \u001b[49m\u001b[43mtool_choice\u001b[49m\u001b[43m,\u001b[49m\n\u001b[1;32m   1117\u001b[0m \u001b[43m                \u001b[49m\u001b[38;5;124;43m\"\u001b[39;49m\u001b[38;5;124;43mtools\u001b[39;49m\u001b[38;5;124;43m\"\u001b[39;49m\u001b[43m:\u001b[49m\u001b[43m \u001b[49m\u001b[43mtools\u001b[49m\u001b[43m,\u001b[49m\n\u001b[1;32m   1118\u001b[0m \u001b[43m                \u001b[49m\u001b[38;5;124;43m\"\u001b[39;49m\u001b[38;5;124;43mtop_logprobs\u001b[39;49m\u001b[38;5;124;43m\"\u001b[39;49m\u001b[43m:\u001b[49m\u001b[43m \u001b[49m\u001b[43mtop_logprobs\u001b[49m\u001b[43m,\u001b[49m\n\u001b[1;32m   1119\u001b[0m \u001b[43m                \u001b[49m\u001b[38;5;124;43m\"\u001b[39;49m\u001b[38;5;124;43mtop_p\u001b[39;49m\u001b[38;5;124;43m\"\u001b[39;49m\u001b[43m:\u001b[49m\u001b[43m \u001b[49m\u001b[43mtop_p\u001b[49m\u001b[43m,\u001b[49m\n\u001b[1;32m   1120\u001b[0m \u001b[43m                \u001b[49m\u001b[38;5;124;43m\"\u001b[39;49m\u001b[38;5;124;43muser\u001b[39;49m\u001b[38;5;124;43m\"\u001b[39;49m\u001b[43m:\u001b[49m\u001b[43m \u001b[49m\u001b[43muser\u001b[49m\u001b[43m,\u001b[49m\n\u001b[1;32m   1121\u001b[0m \u001b[43m                \u001b[49m\u001b[38;5;124;43m\"\u001b[39;49m\u001b[38;5;124;43mweb_search_options\u001b[39;49m\u001b[38;5;124;43m\"\u001b[39;49m\u001b[43m:\u001b[49m\u001b[43m \u001b[49m\u001b[43mweb_search_options\u001b[49m\u001b[43m,\u001b[49m\n\u001b[1;32m   1122\u001b[0m \u001b[43m            \u001b[49m\u001b[43m}\u001b[49m\u001b[43m,\u001b[49m\n\u001b[1;32m   1123\u001b[0m \u001b[43m            \u001b[49m\u001b[43mcompletion_create_params\u001b[49m\u001b[38;5;241;43m.\u001b[39;49m\u001b[43mCompletionCreateParamsStreaming\u001b[49m\n\u001b[1;32m   1124\u001b[0m \u001b[43m            \u001b[49m\u001b[38;5;28;43;01mif\u001b[39;49;00m\u001b[43m \u001b[49m\u001b[43mstream\u001b[49m\n\u001b[1;32m   1125\u001b[0m \u001b[43m            \u001b[49m\u001b[38;5;28;43;01melse\u001b[39;49;00m\u001b[43m \u001b[49m\u001b[43mcompletion_create_params\u001b[49m\u001b[38;5;241;43m.\u001b[39;49m\u001b[43mCompletionCreateParamsNonStreaming\u001b[49m\u001b[43m,\u001b[49m\n\u001b[1;32m   1126\u001b[0m \u001b[43m        \u001b[49m\u001b[43m)\u001b[49m\u001b[43m,\u001b[49m\n\u001b[1;32m   1127\u001b[0m \u001b[43m        \u001b[49m\u001b[43moptions\u001b[49m\u001b[38;5;241;43m=\u001b[39;49m\u001b[43mmake_request_options\u001b[49m\u001b[43m(\u001b[49m\n\u001b[1;32m   1128\u001b[0m \u001b[43m            \u001b[49m\u001b[43mextra_headers\u001b[49m\u001b[38;5;241;43m=\u001b[39;49m\u001b[43mextra_headers\u001b[49m\u001b[43m,\u001b[49m\u001b[43m \u001b[49m\u001b[43mextra_query\u001b[49m\u001b[38;5;241;43m=\u001b[39;49m\u001b[43mextra_query\u001b[49m\u001b[43m,\u001b[49m\u001b[43m \u001b[49m\u001b[43mextra_body\u001b[49m\u001b[38;5;241;43m=\u001b[39;49m\u001b[43mextra_body\u001b[49m\u001b[43m,\u001b[49m\u001b[43m \u001b[49m\u001b[43mtimeout\u001b[49m\u001b[38;5;241;43m=\u001b[39;49m\u001b[43mtimeout\u001b[49m\n\u001b[1;32m   1129\u001b[0m \u001b[43m        \u001b[49m\u001b[43m)\u001b[49m\u001b[43m,\u001b[49m\n\u001b[1;32m   1130\u001b[0m \u001b[43m        \u001b[49m\u001b[43mcast_to\u001b[49m\u001b[38;5;241;43m=\u001b[39;49m\u001b[43mChatCompletion\u001b[49m\u001b[43m,\u001b[49m\n\u001b[1;32m   1131\u001b[0m \u001b[43m        \u001b[49m\u001b[43mstream\u001b[49m\u001b[38;5;241;43m=\u001b[39;49m\u001b[43mstream\u001b[49m\u001b[43m \u001b[49m\u001b[38;5;129;43;01mor\u001b[39;49;00m\u001b[43m \u001b[49m\u001b[38;5;28;43;01mFalse\u001b[39;49;00m\u001b[43m,\u001b[49m\n\u001b[1;32m   1132\u001b[0m \u001b[43m        \u001b[49m\u001b[43mstream_cls\u001b[49m\u001b[38;5;241;43m=\u001b[39;49m\u001b[43mStream\u001b[49m\u001b[43m[\u001b[49m\u001b[43mChatCompletionChunk\u001b[49m\u001b[43m]\u001b[49m\u001b[43m,\u001b[49m\n\u001b[1;32m   1133\u001b[0m \u001b[43m    \u001b[49m\u001b[43m)\u001b[49m\n",
      "File \u001b[0;32m~/miniconda3/envs/mi/lib/python3.10/site-packages/openai/_base_client.py:1249\u001b[0m, in \u001b[0;36mSyncAPIClient.post\u001b[0;34m(self, path, cast_to, body, options, files, stream, stream_cls)\u001b[0m\n\u001b[1;32m   1235\u001b[0m \u001b[38;5;28;01mdef\u001b[39;00m\u001b[38;5;250m \u001b[39m\u001b[38;5;21mpost\u001b[39m(\n\u001b[1;32m   1236\u001b[0m     \u001b[38;5;28mself\u001b[39m,\n\u001b[1;32m   1237\u001b[0m     path: \u001b[38;5;28mstr\u001b[39m,\n\u001b[0;32m   (...)\u001b[0m\n\u001b[1;32m   1244\u001b[0m     stream_cls: \u001b[38;5;28mtype\u001b[39m[_StreamT] \u001b[38;5;241m|\u001b[39m \u001b[38;5;28;01mNone\u001b[39;00m \u001b[38;5;241m=\u001b[39m \u001b[38;5;28;01mNone\u001b[39;00m,\n\u001b[1;32m   1245\u001b[0m ) \u001b[38;5;241m-\u001b[39m\u001b[38;5;241m>\u001b[39m ResponseT \u001b[38;5;241m|\u001b[39m _StreamT:\n\u001b[1;32m   1246\u001b[0m     opts \u001b[38;5;241m=\u001b[39m FinalRequestOptions\u001b[38;5;241m.\u001b[39mconstruct(\n\u001b[1;32m   1247\u001b[0m         method\u001b[38;5;241m=\u001b[39m\u001b[38;5;124m\"\u001b[39m\u001b[38;5;124mpost\u001b[39m\u001b[38;5;124m\"\u001b[39m, url\u001b[38;5;241m=\u001b[39mpath, json_data\u001b[38;5;241m=\u001b[39mbody, files\u001b[38;5;241m=\u001b[39mto_httpx_files(files), \u001b[38;5;241m*\u001b[39m\u001b[38;5;241m*\u001b[39moptions\n\u001b[1;32m   1248\u001b[0m     )\n\u001b[0;32m-> 1249\u001b[0m     \u001b[38;5;28;01mreturn\u001b[39;00m cast(ResponseT, \u001b[38;5;28;43mself\u001b[39;49m\u001b[38;5;241;43m.\u001b[39;49m\u001b[43mrequest\u001b[49m\u001b[43m(\u001b[49m\u001b[43mcast_to\u001b[49m\u001b[43m,\u001b[49m\u001b[43m \u001b[49m\u001b[43mopts\u001b[49m\u001b[43m,\u001b[49m\u001b[43m \u001b[49m\u001b[43mstream\u001b[49m\u001b[38;5;241;43m=\u001b[39;49m\u001b[43mstream\u001b[49m\u001b[43m,\u001b[49m\u001b[43m \u001b[49m\u001b[43mstream_cls\u001b[49m\u001b[38;5;241;43m=\u001b[39;49m\u001b[43mstream_cls\u001b[49m\u001b[43m)\u001b[49m)\n",
      "File \u001b[0;32m~/miniconda3/envs/mi/lib/python3.10/site-packages/openai/_base_client.py:1004\u001b[0m, in \u001b[0;36mSyncAPIClient.request\u001b[0;34m(self, cast_to, options, stream, stream_cls)\u001b[0m\n\u001b[1;32m   1001\u001b[0m         \u001b[38;5;28;01mcontinue\u001b[39;00m\n\u001b[1;32m   1003\u001b[0m     log\u001b[38;5;241m.\u001b[39mdebug(\u001b[38;5;124m\"\u001b[39m\u001b[38;5;124mRaising connection error\u001b[39m\u001b[38;5;124m\"\u001b[39m)\n\u001b[0;32m-> 1004\u001b[0m     \u001b[38;5;28;01mraise\u001b[39;00m APIConnectionError(request\u001b[38;5;241m=\u001b[39mrequest) \u001b[38;5;28;01mfrom\u001b[39;00m\u001b[38;5;250m \u001b[39m\u001b[38;5;21;01merr\u001b[39;00m\n\u001b[1;32m   1006\u001b[0m log\u001b[38;5;241m.\u001b[39mdebug(\n\u001b[1;32m   1007\u001b[0m     \u001b[38;5;124m'\u001b[39m\u001b[38;5;124mHTTP Response: \u001b[39m\u001b[38;5;132;01m%s\u001b[39;00m\u001b[38;5;124m \u001b[39m\u001b[38;5;132;01m%s\u001b[39;00m\u001b[38;5;124m \u001b[39m\u001b[38;5;124m\"\u001b[39m\u001b[38;5;132;01m%i\u001b[39;00m\u001b[38;5;124m \u001b[39m\u001b[38;5;132;01m%s\u001b[39;00m\u001b[38;5;124m\"\u001b[39m\u001b[38;5;124m \u001b[39m\u001b[38;5;132;01m%s\u001b[39;00m\u001b[38;5;124m'\u001b[39m,\n\u001b[1;32m   1008\u001b[0m     request\u001b[38;5;241m.\u001b[39mmethod,\n\u001b[0;32m   (...)\u001b[0m\n\u001b[1;32m   1012\u001b[0m     response\u001b[38;5;241m.\u001b[39mheaders,\n\u001b[1;32m   1013\u001b[0m )\n\u001b[1;32m   1014\u001b[0m log\u001b[38;5;241m.\u001b[39mdebug(\u001b[38;5;124m\"\u001b[39m\u001b[38;5;124mrequest_id: \u001b[39m\u001b[38;5;132;01m%s\u001b[39;00m\u001b[38;5;124m\"\u001b[39m, response\u001b[38;5;241m.\u001b[39mheaders\u001b[38;5;241m.\u001b[39mget(\u001b[38;5;124m\"\u001b[39m\u001b[38;5;124mx-request-id\u001b[39m\u001b[38;5;124m\"\u001b[39m))\n",
      "\u001b[0;31mAPIConnectionError\u001b[0m: Connection error."
     ]
    }
   ],
   "source": [
    "run_router(\"whats up\")"
   ]
  },
  {
   "cell_type": "code",
   "execution_count": 33,
   "id": "816f427a",
   "metadata": {},
   "outputs": [
    {
     "name": "stdout",
     "output_type": "stream",
     "text": [
      "Choosen Pipeline: QuickResponse\n",
      "QuickResponse\n"
     ]
    }
   ],
   "source": [
    "print(parse_router(run_router(\"Whats upp\")))"
   ]
  },
  {
   "cell_type": "code",
   "execution_count": 58,
   "id": "fc0b2a41",
   "metadata": {},
   "outputs": [],
   "source": [
    "def planner(question :str):\n",
    "\n",
    "    memory.chat_history.append({\"role\":\"user\",\"content\":question})\n",
    "\n",
    "    planner_answer = run_planner(question)\n",
    "    print(planner_answer)\n",
    "    critic_answer = run_critic(planner_answer, question)\n",
    "    print(critic_answer)\n",
    "    p_c_a = parse_critic_plan(critic_answer)\n",
    "\n",
    "    memory.chat_history.append({\"role\":\"system\",\"content\":critic_answer})\n",
    "\n",
    "    return p_c_a"
   ]
  },
  {
   "cell_type": "code",
   "execution_count": 40,
   "id": "c8f26038",
   "metadata": {},
   "outputs": [],
   "source": [
    "def agentic_behaviour(plan: str,  question: str, context: str = conv_hist) -> list:\n",
    "\n",
    "    i = 0\n",
    "\n",
    "    while i < len(plan):\n",
    "\n",
    "        answer, tools = run_agent(plan[i], context)\n",
    "        summ, res = parse_agent(answer) \n",
    "\n",
    "        memory.chat_history.append({\"role\":\"system\",\"content\": answer})\n",
    "\n",
    "        evaluation = run_evaluator(answer, plan[i], plan)\n",
    "        \n",
    "        print(evaluation)\n",
    "        \n",
    "        parsed_eval = parse_eval(evaluation)\n",
    "\n",
    "        if parsed_eval == -1:\n",
    "            \n",
    "            print(answer)\n",
    "            break\n",
    "        \n",
    "        elif isinstance(parsed_eval, str):\n",
    "            \n",
    "            #declaring the new plan\n",
    "            plan = parsed_eval\n",
    "\n",
    "            memory.chat_history.append({\"role\":\"system\",\"content\":evaluation})\n",
    "\n",
    "            print(answer)\n",
    "\n",
    "            i = 0\n",
    "\n",
    "            continue\n",
    "            \n",
    "        print(f\"\\n\\n {i}th Context: \", context, \"\\n\\n\")\n",
    "        print(answer)\n",
    "\n",
    "        i += 1\n",
    "\n",
    "\n",
    "    return\n",
    "        \n",
    "    "
   ]
  },
  {
   "cell_type": "code",
   "execution_count": 59,
   "id": "e11e970d",
   "metadata": {},
   "outputs": [
    {
     "name": "stdout",
     "output_type": "stream",
     "text": [
      "Hello! I'm Phi Delta, a virtual assistant designed to help researchers, curious individuals, and anyone seeking information or assistance with various tasks. My goal is to provide helpful, accurate, and positive support across a wide range of topics, from everyday questions to more complex inquiries. Feel free to ask me anything, and I'll do my best to assist you! If you have any specific questions or need information, just let me know. 😊\n"
     ]
    }
   ],
   "source": [
    "memory.chat_history.clear()\n",
    "\n",
    "question = \"Who are you?\"\n",
    "\n",
    "decision = parse_router(run_router(question)) \n",
    "\n",
    "if decision == \"QuickResponse\":\n",
    "    print(run_quickresponse(question))\n",
    "\n",
    "if decision == \"Agentic\":\n",
    "    agentic_behaviour(planner(question),question)\n"
   ]
  },
  {
   "cell_type": "code",
   "execution_count": 24,
   "id": "7e24c56f",
   "metadata": {},
   "outputs": [
    {
     "data": {
      "text/plain": [
       "[{'role': 'user',\n",
       "  'content': 'Find me the best burrito shops in Istanbul and then ask me which one is my favorite so you can find its address only'},\n",
       " {'role': 'system',\n",
       "  'content': 'Corrected Plan:\\nStep 1. Use the `search_tool` to find recent reviews and lists of the best burrito shops in Istanbul.\\n   - Input: \"best burrito shops in Istanbul 2023\"\\n\\nStep 2. From the search results, extract a list of burrito shop names and any available addresses or locations. (This step involves manual extraction and is not a tool step.)\\n\\nStep 3. Present the list of burrito shops to the user and ask them to select their favorite. (This step involves interaction with the user and is not a tool step.)\\n\\nStep 4. Use the `search_tool` again to find the specific address of the user\\'s favorite burrito shop.\\n   - Input: \"[User\\'s favorite burrito shop name] address Istanbul\"\\n\\nVerdict: READY'},\n",
       " {'role': 'system',\n",
       "  'content': 'Here are some of the best burrito shops in Istanbul based on recent reviews and lists:\\n\\n### Top Results:\\n1. **Burrito Shop Hilltown**\\n   - **URL**: [HappyCow Review](https://www.happycow.net/reviews/burrito-shop-istanbul-353004)\\n   - **Location**: Aydınevler, Siteler Yolu, No 28 (at Hilltown Shopping Mall), Istanbul, Turkey, 34854\\n   - **Overview**: Serves meat with vegan options available. Known for vegan burritos, tacos, burrito bowls, and quesadillas. Open Monday to Sunday from 10:00 am to 12:00 am.\\n\\n2. **Burrito Shop Mexican Wave**\\n   - **URL**: [Yelp Search](https://www.yelp.com/search?find_desc=Burrito&find_loc=Istanbul)\\n   - **Overview**: Highly rated with 3.7 stars from 25 reviews. Located in Caddebostan Mah., Bağdat Cad.\\n\\n3. **Tacofit**\\n   - **URL**: [Yelp Search](https://www.yelp.com/search?find_desc=Burrito&find_loc=Istanbul)\\n   - **Overview**: Rated 4.3 stars from 6 reviews. Known for its excellent burritos and tacos.\\n\\n4. **Burrito Shop Caddebostan**\\n   - **URL**: [Tripadvisor](https://www.tripadvisor.com/Restaurants-g293974-zfd10878-Istanbul-Burrito.html)\\n   - **Overview**: Rated 3.8 stars from 21 reviews. Praised for wonderful and tasty burritos and quesadillas.\\n\\n5. **Los Altos**\\n   - **URL**: [Yelp Mexican Search](https://www.yelp.com/search?cflt=mexican&find_loc=Istanbul)\\n   - **Overview**: Part of the top 10 Mexican restaurants in Istanbul.\\n\\nThese locations have been highlighted for their quality and popularity among both locals and visitors.\\n\\n### Summary:\\n- **Names**: Burrito Shop Hilltown, Burrito Shop Mexican Wave, Tacofit, Burrito Shop Caddebostan, Los Altos\\n- **Locations**: Various locations in Istanbul, including Aydınevler and Caddebostan\\n- **URLs**: [HappyCow Review](https://www.happycow.net/reviews/burrito-shop-istanbul-353004), [Yelp Search](https://www.yelp.com/search?find_desc=Burrito&find_loc=Istanbul), [Tripadvisor](https://www.tripadvisor.com/Restaurants-g293974-zfd10878-Istanbul-Burrito.html), [Yelp Mexican Search](https://www.yelp.com/search?cflt=mexican&find_loc=Istanbul)\\n\\n### Resources:\\n- [HappyCow Review](https://www.happycow.net/reviews/burrito-shop-istanbul-353004)\\n- [Yelp Search](https://www.yelp.com/search?find_desc=Burrito&find_loc=Istanbul)\\n- [Tripadvisor](https://www.tripadvisor.com/Restaurants-g293974-zfd10878-Istanbul-Burrito.html)\\n- [Yelp Mexican Search](https://www.yelp.com/search?cflt=mexican&find_loc=Istanbul)'},\n",
       " {'role': 'system',\n",
       "  'content': \"To complete this step, you would need to manually review the search results for burrito shops and extract the names and any available addresses or locations. Since this involves manual extraction and is not a tool step, I can't perform it for you. However, you can use the search results to identify the relevant information.\"},\n",
       " {'role': 'system',\n",
       "  'content': 'Here is a list of burrito shops for you to choose from:\\n\\n1. El Burrito Loco\\n2. Taco Fiesta\\n3. The Rolling Tortilla\\n4. Burrito Bonanza\\n5. Tasty Tacos & Burritos\\n\\nPlease select your favorite by mentioning the number or the name of the shop.'}]"
      ]
     },
     "execution_count": 24,
     "metadata": {},
     "output_type": "execute_result"
    }
   ],
   "source": [
    "memory.chat_history"
   ]
  },
  {
   "cell_type": "code",
   "execution_count": 39,
   "id": "8378b4eb",
   "metadata": {},
   "outputs": [
    {
     "data": {
      "text/plain": [
       "[{'role': 'user',\n",
       "  'content': 'Find me the best burrito shops in Istanbul and then ask me which one is my favorite so you can find its address only'},\n",
       " {'role': 'system',\n",
       "  'content': 'Corrected Plan:\\nStep 1. Use the `search_tool` to find recent reviews and lists of the best burrito shops in Istanbul.\\n   - Input: \"best burrito shops in Istanbul 2023\"\\n\\nStep 2. From the search results, extract a list of burrito shop names and any available addresses or locations. (This step involves manual extraction and is not a tool step.)\\n\\nStep 3. Present the list of burrito shops to the user and ask them to select their favorite. (This step involves interaction with the user and is not a tool step.)\\n\\nStep 4. Use the `search_tool` again to find the specific address of the user\\'s favorite burrito shop.\\n   - Input: \"[User\\'s favorite burrito shop name] address Istanbul\"\\n\\nVerdict: READY'},\n",
       " {'role': 'system',\n",
       "  'content': 'Here are some of the best burrito shops in Istanbul based on recent reviews and lists:\\n\\n### Top Results:\\n1. **Burrito Shop Hilltown**\\n   - **URL**: [HappyCow Review](https://www.happycow.net/reviews/burrito-shop-istanbul-353004)\\n   - **Location**: Aydınevler, Siteler Yolu, No 28 (at Hilltown Shopping Mall), Istanbul, Turkey, 34854\\n   - **Overview**: Serves meat with vegan options available. Known for vegan burritos, tacos, burrito bowls, and quesadillas. Open Monday to Sunday from 10:00 am to 12:00 am.\\n\\n2. **Burrito Shop Mexican Wave**\\n   - **URL**: [Yelp Search](https://www.yelp.com/search?find_desc=Burrito&find_loc=Istanbul)\\n   - **Overview**: Highly rated with 3.7 stars from 25 reviews. Located in Caddebostan Mah., Bağdat Cad.\\n\\n3. **Tacofit**\\n   - **URL**: [Yelp Search](https://www.yelp.com/search?find_desc=Burrito&find_loc=Istanbul)\\n   - **Overview**: Rated 4.3 stars from 6 reviews. Known for its excellent burritos and tacos.\\n\\n4. **Burrito Shop Caddebostan**\\n   - **URL**: [Tripadvisor](https://www.tripadvisor.com/Restaurants-g293974-zfd10878-Istanbul-Burrito.html)\\n   - **Overview**: Rated 3.8 stars from 21 reviews. Praised for wonderful and tasty burritos and quesadillas.\\n\\n5. **Los Altos**\\n   - **URL**: [Yelp Mexican Search](https://www.yelp.com/search?cflt=mexican&find_loc=Istanbul)\\n   - **Overview**: Part of the top 10 Mexican restaurants in Istanbul.\\n\\nThese locations have been highlighted for their quality and popularity among both locals and visitors.\\n\\n### Summary:\\n- **Names**: Burrito Shop Hilltown, Burrito Shop Mexican Wave, Tacofit, Burrito Shop Caddebostan, Los Altos\\n- **Locations**: Various locations in Istanbul, including Aydınevler and Caddebostan\\n- **URLs**: [HappyCow Review](https://www.happycow.net/reviews/burrito-shop-istanbul-353004), [Yelp Search](https://www.yelp.com/search?find_desc=Burrito&find_loc=Istanbul), [Tripadvisor](https://www.tripadvisor.com/Restaurants-g293974-zfd10878-Istanbul-Burrito.html), [Yelp Mexican Search](https://www.yelp.com/search?cflt=mexican&find_loc=Istanbul)\\n\\n### Resources:\\n- [HappyCow Review](https://www.happycow.net/reviews/burrito-shop-istanbul-353004)\\n- [Yelp Search](https://www.yelp.com/search?find_desc=Burrito&find_loc=Istanbul)\\n- [Tripadvisor](https://www.tripadvisor.com/Restaurants-g293974-zfd10878-Istanbul-Burrito.html)\\n- [Yelp Mexican Search](https://www.yelp.com/search?cflt=mexican&find_loc=Istanbul)'},\n",
       " {'role': 'system',\n",
       "  'content': \"To complete this step, you would need to manually review the search results for burrito shops and extract the names and any available addresses or locations. Since this involves manual extraction and is not a tool step, I can't perform it for you. However, you can use the search results to identify the relevant information.\"},\n",
       " {'role': 'system',\n",
       "  'content': 'Here is a list of burrito shops for you to choose from:\\n\\n1. El Burrito Loco\\n2. Taco Fiesta\\n3. The Rolling Tortilla\\n4. Burrito Bonanza\\n5. Tasty Tacos & Burritos\\n\\nPlease select your favorite by mentioning the number or the name of the shop.'},\n",
       " {'role': 'user', 'content': 'I choose Taco Fiesta'},\n",
       " {'role': 'system',\n",
       "  'content': 'Corrected Plan:\\n\\nStep 1. Use the `search_tool` to find recent information about Taco Fiesta in Istanbul. Input the query: \"Taco Fiesta burrito shop address Istanbul.\"\\n\\nStep 2. Review the search results to identify the specific address for Taco Fiesta. Look for results that include contact information or location details.\\n\\nStep 3. Extract and format the address clearly from the search results.\\n\\nVerdict: READY'},\n",
       " {'role': 'system',\n",
       "  'content': 'Based on the search results, here are some findings related to burrito shops in Istanbul, though not specifically Taco Fiesta:\\n\\n1. **Burrito Shop** - Located at Bağdat Caddesi No:298, Caddebostan, Istanbul. This is a Mexican joint noted for its offerings outside the United States.\\n   - URL: [Time Out](https://www.timeout.com/istanbul/restaurants/burrito-shop)\\n   - Yelp: [Burrito Shop Istanbul](https://www.yelp.com/biz/burrito-shop-istanbul-2?search_key=98400)\\n   - Instagram: [Burrito Shop Mexican Wave](https://www.instagram.com/explore/locations/743652023/burrito-shop-mexican-wave/)\\n   - Cityseeker: [Burrito Shop Mexican Wave](https://cityseeker.com/istanbul/1729095-burrito-shop-mexican-wave)\\n\\n2. **Burrito Shop Mexican Wave** - Located at Bağdat Caddesi No:298, Caddebostan, Istanbul, Turkey. A Tex-Mex restaurant with opening hours until 10:30 PM.\\n   - Contact: +90 216 411 45 67\\n\\nUnfortunately, specific information about Taco Fiesta was not found in the search results. If Taco Fiesta is a newly established or lesser-known location, it might not be widely listed online. You may consider reaching out directly to local listings or social media platforms for more information.\\n\\n### Summary:\\n- **Names and Locations:**\\n  - Burrito Shop: Bağdat Caddesi No:298, Caddebostan, Istanbul.\\n  - Burrito Shop Mexican Wave: Bağdat Caddesi No:298, Caddebostan, Istanbul.\\n- **URLs:**\\n  - [Time Out](https://www.timeout.com/istanbul/restaurants/burrito-shop)\\n  - [Yelp](https://www.yelp.com/biz/burrito-shop-istanbul-2?search_key=98400)\\n  - [Instagram](https://www.instagram.com/explore/locations/743652023/burrito-shop-mexican-wave/)\\n  - [Cityseeker](https://cityseeker.com/istanbul/1729095-burrito-shop-mexican-wave)\\n- **Contact:**\\n  - +90 216 411 45 67 (for Burrito Shop Mexican Wave)\\n\\n### Resources:\\n- [Time Out](https://www.timeout.com/istanbul/restaurants/burrito-shop)\\n- [Yelp](https://www.yelp.com/biz/burrito-shop-istanbul-2?search_key=98400)\\n- [Instagram](https://www.instagram.com/explore/locations/743652023/burrito-shop-mexican-wave/)\\n- [Cityseeker](https://cityseeker.com/istanbul/1729095-burrito-shop-mexican-wave)\\n\\nIf further assistance is needed, please let me know how I can help!'},\n",
       " {'role': 'system',\n",
       "  'content': 'Based on the search results, the address for Taco Fiesta, also known as Taco & Tortilla, is listed on Instagram. The address is: Jandarma Mektebi Sokak Nr 10b, Istanbul, Turkey. They are located in the Beşiktaş area of Istanbul. For further details, you can visit their Instagram page at [Taco & Tortilla Instagram](https://www.instagram.com/taco_and_tortilla/?hl=en).'},\n",
       " {'role': 'system',\n",
       "  'content': \"The address for Burrito Shop Hilltown is:\\n\\nAydınevler, Siteler Yolu, No 28 (at Hilltown Shopping Mall), Istanbul, Turkey, 34854\\n\\nIf this is the user's selected burrito shop, you can provide this address. If not, please confirm the correct shop name so I can retrieve the address for you.\"},\n",
       " {'role': 'user', 'content': 'Sorry I typed wrong. I meant tacofit'},\n",
       " {'role': 'system',\n",
       "  'content': 'Corrected Plan:\\nStep 1. Use the `search_tool` to find the address of Tacofit in Istanbul.\\n   - Input: \"Tacofit burrito shop address Istanbul\"\\n\\nStep 2. Analyze the search results to extract the specific address of Tacofit.\\n   - Review the search results to identify and verify the address.\\n\\nStep 3. Provide the extracted address to the user in a clear and concise manner.\\n\\nVerdict: READY'},\n",
       " {'role': 'system',\n",
       "  'content': \"It seems there was a connection error while trying to access the search tool. Let's try a different approach to find the address of Tacofit in Istanbul. I will use a general search tool to look for the address. Please hold on a moment.\"}]"
      ]
     },
     "execution_count": 39,
     "metadata": {},
     "output_type": "execute_result"
    }
   ],
   "source": [
    "memory.chat_history"
   ]
  },
  {
   "cell_type": "code",
   "execution_count": null,
   "id": "d4d9aced",
   "metadata": {},
   "outputs": [
    {
     "name": "stdout",
     "output_type": "stream",
     "text": [
      "### Summary of the Conversation\n",
      "\n",
      "**User's Goals and Key Questions:**\n",
      "- The user wants to identify the best burrito shops in Istanbul and find the address of their favorite one.\n",
      "\n",
      "**Critical Results from Tools:**\n",
      "- A search yielded a list of top burrito shops in Istanbul, including:\n",
      "  1. **Burrito Shop Hilltown**: Located at Aydınevler, known for vegan options. [HappyCow Review](https://www.happycow.net/reviews/burrito-shop-istanbul-353004)\n",
      "  2. **Burrito Shop Mexican Wave**: Located in Caddebostan, rated 3.7 stars on Yelp.\n",
      "  3. **Tacofit**: Rated 4.3 stars on Yelp, known for burritos and tacos.\n",
      "  4. **Burrito Shop Caddebostan**: Rated 3.8 stars on Tripadvisor.\n",
      "  5. **Los Altos**: Part of top 10 Mexican restaurants in Istanbul, found on Yelp.\n",
      "\n",
      "**Decisions Made and Paths Taken:**\n",
      "- The plan involves:\n",
      "  1. Presenting the user with a list of top burrito shops.\n",
      "  2. Asking the user to select their favorite.\n",
      "  3. Finding the specific address of the chosen shop using another search.\n",
      "\n",
      "**Current Task Status or Next Goal:**\n",
      "- The user is prompted to select their favorite burrito shop from the provided list (e.g., El Burrito Loco, Taco Fiesta). Once selected, the next step will be to find and provide the address of the chosen shop.\n"
     ]
    }
   ],
   "source": [
    "conv_hist = summarize_conversation(memory.chat_history)"
   ]
  },
  {
   "cell_type": "code",
   "execution_count": 41,
   "id": "86802587",
   "metadata": {},
   "outputs": [
    {
     "name": "stdout",
     "output_type": "stream",
     "text": [
      "To assist you in obtaining the address of Tacofit in Istanbul, here are the steps you can follow:\n",
      "\n",
      "1. **Search for Tacofit's Address:**\n",
      "   - Use the `search_tool` to find the address of Tacofit in Istanbul. Input the query: \"Tacofit burrito shop address Istanbul.\"\n",
      "\n",
      "2. **Verify the Address:**\n",
      "   - Review the search results to ensure the address is correct and corresponds to the Tacofit location you are interested in.\n",
      "\n",
      "3. **Provide the Address:**\n",
      "   - Once verified, provide the address details to the user. \n",
      "\n",
      "These steps will help you efficiently find and confirm the address of Tacofit in Istanbul.\n",
      "Corrected Plan:\n",
      "Step 1. Use the `search_tool` with the input query: \"Tacofit burrito shop address Istanbul\" to find the address of Tacofit.\n",
      "\n",
      "Step 2. Review the search results from the `search_tool` to verify the address and ensure it corresponds to the correct Tacofit location in Istanbul.\n",
      "\n",
      "Step 3. Provide the verified address details to the user.\n",
      "\n",
      "Verdict: READY\n",
      "Decision: \"No change\"\n",
      "\n",
      "\n",
      " 0th Context:  ### Summary of Conversation:\n",
      "\n",
      "- **User's Goal**: To find the best burrito shops in Istanbul and determine the address of their favorite, Taco Fiesta.\n",
      "  \n",
      "- **Steps Taken**:\n",
      "  1. **Research**: The search for the best burrito shops in Istanbul was conducted using online platforms like HappyCow, Yelp, and TripAdvisor. Top recommendations included Burrito Shop Hilltown, Burrito Shop Mexican Wave, Tacofit, Burrito Shop Caddebostan, and Los Altos.\n",
      "  \n",
      "  2. **User Selection**: The user selected \"Taco Fiesta\" as their favorite burrito shop.\n",
      "\n",
      "  3. **Address Search**: A search was conducted specifically for Taco Fiesta's address in Istanbul. While specific online listings for Taco Fiesta were limited, Instagram provided the address: Jandarma Mektebi Sokak Nr 10b, Beşiktaş, Istanbul, Turkey.\n",
      "\n",
      "- **Current Status**: \n",
      "  - The address for Taco Fiesta has been identified from Instagram.\n",
      "  - If further information or confirmation is needed, the user might consider reaching out via social media or local resources.\n",
      "\n",
      "- **Next Steps**: \n",
      "  - Confirm the address with the user and provide any additional information or resources if required.\n",
      "  - Offer assistance with directions or additional details about the area, if needed. \n",
      "\n",
      "\n",
      "I found the address for Tacofit in Istanbul. The main location is at Nisbetiye Cad. No:42/A, Beşiktaş, Istanbul. Additional locations include Ataşehir Atatürk at Ata-3-2 No:37, Plaza, 34758 Ataşehir/İstanbul; Ergenekon Mah. Fransız Hastanesi Sok. No:7 Harbiye-Şişli/İstanbul; and Zuhuratbaba, Zuhurat Baba Cd. No:35C, 34147 Bakırköy/İstanbul. You can reach the main location at +90 212 284 11 17 for any inquiries. If you need further assistance, feel free to ask!\n",
      "Decision: \"No change\"\n",
      "\n",
      "\n",
      " 1th Context:  ### Summary of Conversation:\n",
      "\n",
      "- **User's Goal**: To find the best burrito shops in Istanbul and determine the address of their favorite, Taco Fiesta.\n",
      "  \n",
      "- **Steps Taken**:\n",
      "  1. **Research**: The search for the best burrito shops in Istanbul was conducted using online platforms like HappyCow, Yelp, and TripAdvisor. Top recommendations included Burrito Shop Hilltown, Burrito Shop Mexican Wave, Tacofit, Burrito Shop Caddebostan, and Los Altos.\n",
      "  \n",
      "  2. **User Selection**: The user selected \"Taco Fiesta\" as their favorite burrito shop.\n",
      "\n",
      "  3. **Address Search**: A search was conducted specifically for Taco Fiesta's address in Istanbul. While specific online listings for Taco Fiesta were limited, Instagram provided the address: Jandarma Mektebi Sokak Nr 10b, Beşiktaş, Istanbul, Turkey.\n",
      "\n",
      "- **Current Status**: \n",
      "  - The address for Taco Fiesta has been identified from Instagram.\n",
      "  - If further information or confirmation is needed, the user might consider reaching out via social media or local resources.\n",
      "\n",
      "- **Next Steps**: \n",
      "  - Confirm the address with the user and provide any additional information or resources if required.\n",
      "  - Offer assistance with directions or additional details about the area, if needed. \n",
      "\n",
      "\n",
      "The search results from the `search_tool` confirm that the address for Tacofit in Istanbul is located at Nispetiye Cad. No:42/A, Beşiktaş, 34340 Istanbul, Turkey. The information is consistent across multiple sources such as Butaworld, Yandex Maps, Yelp, and Yemeksepeti. This ensures the address corresponds to the correct Tacofit location in Istanbul. If you need further assistance with directions or additional details about the area, feel free to ask!\n",
      "Decision: \"No change\"\n",
      "\n",
      "\n",
      " 2th Context:  ### Summary of Conversation:\n",
      "\n",
      "- **User's Goal**: To find the best burrito shops in Istanbul and determine the address of their favorite, Taco Fiesta.\n",
      "  \n",
      "- **Steps Taken**:\n",
      "  1. **Research**: The search for the best burrito shops in Istanbul was conducted using online platforms like HappyCow, Yelp, and TripAdvisor. Top recommendations included Burrito Shop Hilltown, Burrito Shop Mexican Wave, Tacofit, Burrito Shop Caddebostan, and Los Altos.\n",
      "  \n",
      "  2. **User Selection**: The user selected \"Taco Fiesta\" as their favorite burrito shop.\n",
      "\n",
      "  3. **Address Search**: A search was conducted specifically for Taco Fiesta's address in Istanbul. While specific online listings for Taco Fiesta were limited, Instagram provided the address: Jandarma Mektebi Sokak Nr 10b, Beşiktaş, Istanbul, Turkey.\n",
      "\n",
      "- **Current Status**: \n",
      "  - The address for Taco Fiesta has been identified from Instagram.\n",
      "  - If further information or confirmation is needed, the user might consider reaching out via social media or local resources.\n",
      "\n",
      "- **Next Steps**: \n",
      "  - Confirm the address with the user and provide any additional information or resources if required.\n",
      "  - Offer assistance with directions or additional details about the area, if needed. \n",
      "\n",
      "\n",
      "The verified address for Taco Fiesta in Istanbul is: Jandarma Mektebi Sokak Nr 10b, Beşiktaş, Istanbul, Turkey. If you need further assistance with directions or additional details about the area, feel free to ask.\n"
     ]
    }
   ],
   "source": [
    "question2 = \"Sorry I typed wrong. I meant tacofit\"\n",
    "decision = parse_router(run_router(question2)) \n",
    "\n",
    "if decision == \"QuickResponse\":\n",
    "    print(run_quickresponse(question2))\n",
    "\n",
    "if decision == \"Agentic\":\n",
    "    agentic_behaviour(planner(question2),question2)"
   ]
  },
  {
   "cell_type": "code",
   "execution_count": 35,
   "id": "5c3c6c48",
   "metadata": {},
   "outputs": [
    {
     "name": "stdout",
     "output_type": "stream",
     "text": [
      "**Summary of Conversation:**\n",
      "\n",
      "**User's Goal:**  \n",
      "The user aims to identify the best burrito shops in Istanbul and ultimately obtain the address of their favorite one.\n",
      "\n",
      "**Steps Taken:**\n",
      "\n",
      "1. **Information Gathering:**\n",
      "   - A search was conducted for recent reviews and lists of the top burrito shops in Istanbul for 2023.\n",
      "   - Notable results included:\n",
      "     - **Burrito Shop Hilltown**: Located in Aydınevler, highly rated for vegan options.\n",
      "     - **Burrito Shop Mexican Wave**: Located in Caddebostan Mah., with a 3.7-star rating.\n",
      "     - **Tacofit**: Known for excellent burritos and tacos, rated 4.3 stars.\n",
      "     - **Burrito Shop Caddebostan**: Praised for tasty burritos, rated 3.8 stars.\n",
      "     - **Los Altos**: Part of the top Mexican restaurants in Istanbul.\n",
      "\n",
      "2. **User Interaction:**\n",
      "   - The user was presented with a list of burrito shops to select their favorite:\n",
      "     - El Burrito Loco\n",
      "     - Taco Fiesta\n",
      "     - The Rolling Tortilla\n",
      "     - Burrito Bonanza\n",
      "     - Tasty Tacos & Burritos\n",
      "\n",
      "**Current Status:**\n",
      "- The user is prompted to select their favorite burrito shop by number or name. Once selected, the next step will involve using a search tool to find and provide the specific address of the chosen shop.\n"
     ]
    }
   ],
   "source": [
    "print(conv_hist)"
   ]
  },
  {
   "cell_type": "code",
   "execution_count": 171,
   "id": "23860d39",
   "metadata": {},
   "outputs": [
    {
     "data": {
      "text/plain": [
       "'User: Find me the best burrito shops in Istanbul and then ask me which one is my favorite so you can find its address only\\nSystem: Corrected Plan:\\nStep 1. Use the `search_tool` to find a list of popular burrito shops in Istanbul.\\n   - Input: \"best burrito shops in Istanbul\"\\n\\nStep 2. Compile the list of burrito shops from the search results and present it to the user for selection.\\n\\nStep 3. Ask the user to select their favorite burrito shop from the list and confirm their choice.\\n\\nStep 4. Use the `search_tool` to find the address of the selected burrito shop.\\n   - Input: \"[Name of the chosen burrito shop] address Istanbul\"\\n\\nVerdict: READY\\nSystem: Based on the search results, here are some popular burrito shops in Istanbul:\\n\\n1. Burrito Shop Mexican Wave\\n2. Tacofit\\n3. Ranchero\\n4. Story Coffee & Food\\n5. Happy Moon\\'s\\n6. Burrito Shop Caddebostan\\n7. Los Altos\\n8. El Torito\\n\\nPlease select your favorite burrito shop from the list above so I can find its address for you.\\nSystem: Here is a list of burrito shops in Istanbul based on recent search results:\\n\\n1. **Mexican Wave**\\n2. **Tacofit**\\n3. **Ranchero**\\n4. **Story Coffee & Food**\\n5. **Happy Moon\\'s**\\n6. **Burrito Shop Mexican Wave**\\n7. **Ranchero**\\n8. **Los Altos**\\n9. **El Torito**\\n10. **Burrito Shop Caddebostan**\\n\\nPlease select your favorite burrito shop from the list above.\\nSystem: Please select your favorite burrito shop from the following list:\\n1. Burrito Haven\\n2. Taco Loco\\n3. Wrap World\\n\\nEnter the number corresponding to your choice.\\nUser: 2\\nSystem: Corrected Plan:\\n\\nStep 1. Define the Research Query  \\n- Clearly specify the topic or question you need information on. This will guide the search and analysis process.\\n\\nStep 2. Search for Academic Papers  \\n- Use the `arxiv_search` tool to find relevant academic papers. Input: `{\"query\": \"specific topic\", \"max_results\": 5}`.  \\n- Ensure the query is specific enough to yield relevant results.\\n\\nStep 3. Download Academic Papers  \\n- Use the `download_tool` to download the papers found in Step 2.  \\n- Note: This tool must be used immediately after `arxiv_search` to ensure successful downloads.\\n\\nStep 4. List Downloaded Files  \\n- Use the `list_directory_tool` with input `\"\"` to list all files and verify the downloaded papers.  \\n- Check for PDF files specifically to confirm the downloads.\\n\\nStep 5. Analyze the Papers  \\n- Review the downloaded papers to extract necessary information or insights related to your research query.  \\n- Use manual reading or any available tools to summarize key points.\\n\\nStep 6. Summarize Findings  \\n- Summarize the key points and findings from the papers to address the research question.  \\n- Ensure the summary is concise and directly related to the initial research query.\\n\\nVerdict: READY\\nSystem: To begin, I need to define the research query for the task. The query is to find the best burrito shops in Istanbul. This will guide the search to identify popular burrito shops in the city.'"
      ]
     },
     "execution_count": 171,
     "metadata": {},
     "output_type": "execute_result"
    }
   ],
   "source": [
    "memory.get_summaries()"
   ]
  },
  {
   "cell_type": "code",
   "execution_count": 90,
   "id": "397e7d8e",
   "metadata": {},
   "outputs": [],
   "source": [
    "p_c_a = parse_critic_plan(critic_answer)\n"
   ]
  },
  {
   "cell_type": "code",
   "execution_count": 44,
   "id": "10d354f4",
   "metadata": {},
   "outputs": [
    {
     "name": "stdout",
     "output_type": "stream",
     "text": [
      "0 Step 1. Use the `search_tool` to find information about key figures in the development of modern physics.- Input: \"Who is considered the founder of modern physics?\"\n",
      "1 Step 2. Analyze the search results to identify the most frequently mentioned individuals associated with the founding of modern physics.\n",
      "2 Step 3. Use the `search_tool` to verify the contributions of the identified key figures to ensure accuracy.- Input: \"Contributions of [identified key figure] to modern physics\"Verdict: READY\n"
     ]
    }
   ],
   "source": [
    "for i,step in enumerate(p_c_a):\n",
    "    print(i,step)"
   ]
  },
  {
   "cell_type": "code",
   "execution_count": 111,
   "id": "1e428c23",
   "metadata": {},
   "outputs": [
    {
     "data": {
      "text/plain": [
       "['Find me the best burrito shops in Istanbul and then ask me which one is my favorite so you can find its address only']"
      ]
     },
     "execution_count": 111,
     "metadata": {},
     "output_type": "execute_result"
    }
   ],
   "source": [
    "memory.get_summaries()"
   ]
  },
  {
   "cell_type": "code",
   "execution_count": null,
   "id": "7b60258c",
   "metadata": {},
   "outputs": [
    {
     "ename": "KeyboardInterrupt",
     "evalue": "",
     "output_type": "error",
     "traceback": [
      "\u001b[0;31m---------------------------------------------------------------------------\u001b[0m",
      "\u001b[0;31mKeyboardInterrupt\u001b[0m                         Traceback (most recent call last)",
      "Cell \u001b[0;32mIn[153], line 1\u001b[0m\n\u001b[0;32m----> 1\u001b[0m \u001b[43magentic_behaviour\u001b[49m\u001b[43m(\u001b[49m\u001b[43mp_c_a\u001b[49m\u001b[43m,\u001b[49m\u001b[38;5;124;43m\"\u001b[39;49m\u001b[38;5;124;43m\"\u001b[39;49m\u001b[43m,\u001b[49m\u001b[43mquestion\u001b[49m\u001b[43m)\u001b[49m\n",
      "Cell \u001b[0;32mIn[152], line 7\u001b[0m, in \u001b[0;36magentic_behaviour\u001b[0;34m(plan, question, context)\u001b[0m\n\u001b[1;32m      3\u001b[0m i \u001b[38;5;241m=\u001b[39m \u001b[38;5;241m0\u001b[39m\n\u001b[1;32m      5\u001b[0m \u001b[38;5;28;01mwhile\u001b[39;00m i \u001b[38;5;241m<\u001b[39m \u001b[38;5;28mlen\u001b[39m(plan):\n\u001b[0;32m----> 7\u001b[0m     answer, tools \u001b[38;5;241m=\u001b[39m \u001b[43mrun_agent\u001b[49m\u001b[43m(\u001b[49m\u001b[43mplan\u001b[49m\u001b[43m[\u001b[49m\u001b[43mi\u001b[49m\u001b[43m]\u001b[49m\u001b[43m,\u001b[49m\u001b[43m \u001b[49m\u001b[43mcontext\u001b[49m\u001b[43m)\u001b[49m\n\u001b[1;32m      8\u001b[0m     summ, res \u001b[38;5;241m=\u001b[39m parse_agent(answer) \n\u001b[1;32m     10\u001b[0m     memory\u001b[38;5;241m.\u001b[39mchat_history\u001b[38;5;241m.\u001b[39mappend({\u001b[38;5;124m\"\u001b[39m\u001b[38;5;124mrole\u001b[39m\u001b[38;5;124m\"\u001b[39m:\u001b[38;5;124m\"\u001b[39m\u001b[38;5;124msystem\u001b[39m\u001b[38;5;124m\"\u001b[39m,\u001b[38;5;124m\"\u001b[39m\u001b[38;5;124mcontent\u001b[39m\u001b[38;5;124m\"\u001b[39m: answer})\n",
      "Cell \u001b[0;32mIn[145], line 138\u001b[0m, in \u001b[0;36mrun_agent\u001b[0;34m(step, context)\u001b[0m\n\u001b[1;32m    106\u001b[0m \u001b[38;5;28;01mdef\u001b[39;00m\u001b[38;5;250m \u001b[39m\u001b[38;5;21mrun_agent\u001b[39m(step: \u001b[38;5;28mstr\u001b[39m, context: \u001b[38;5;28mstr\u001b[39m \u001b[38;5;241m=\u001b[39m memory\u001b[38;5;241m.\u001b[39mget_summaries()):\n\u001b[1;32m    109\u001b[0m     executor_prompt \u001b[38;5;241m=\u001b[39m \u001b[38;5;124mf\u001b[39m\u001b[38;5;124m\"\"\"\u001b[39m\n\u001b[1;32m    110\u001b[0m \u001b[38;5;124m    You are a step-by-step execution agent.\u001b[39m\n\u001b[1;32m    111\u001b[0m \n\u001b[0;32m   (...)\u001b[0m\n\u001b[1;32m    135\u001b[0m \u001b[38;5;124m    List all links, references, file names, or other structured outputs. If none, say \u001b[39m\u001b[38;5;124m\"\u001b[39m\u001b[38;5;124mNone.\u001b[39m\u001b[38;5;124m\"\u001b[39m\n\u001b[1;32m    136\u001b[0m \u001b[38;5;124m    \u001b[39m\u001b[38;5;124m\"\"\"\u001b[39m\n\u001b[0;32m--> 138\u001b[0m     result \u001b[38;5;241m=\u001b[39m \u001b[43magent\u001b[49m\u001b[38;5;241;43m.\u001b[39;49m\u001b[43minvoke\u001b[49m\u001b[43m(\u001b[49m\u001b[43m{\u001b[49m\u001b[38;5;124;43m\"\u001b[39;49m\u001b[38;5;124;43mmessages\u001b[39;49m\u001b[38;5;124;43m\"\u001b[39;49m\u001b[43m:\u001b[49m\u001b[43m[\u001b[49m\n\u001b[1;32m    139\u001b[0m \n\u001b[1;32m    140\u001b[0m \u001b[43m        \u001b[49m\u001b[43m{\u001b[49m\u001b[38;5;124;43m\"\u001b[39;49m\u001b[38;5;124;43mrole\u001b[39;49m\u001b[38;5;124;43m\"\u001b[39;49m\u001b[43m:\u001b[49m\u001b[43m \u001b[49m\u001b[38;5;124;43m\"\u001b[39;49m\u001b[38;5;124;43msystem\u001b[39;49m\u001b[38;5;124;43m\"\u001b[39;49m\u001b[43m,\u001b[49m\u001b[43m \u001b[49m\u001b[38;5;124;43m\"\u001b[39;49m\u001b[38;5;124;43mcontent\u001b[39;49m\u001b[38;5;124;43m\"\u001b[39;49m\u001b[43m:\u001b[49m\u001b[43m \u001b[49m\u001b[43mexecutor_prompt\u001b[49m\u001b[43m \u001b[49m\u001b[38;5;241;43m+\u001b[39;49m\u001b[43m \u001b[49m\u001b[43mTOOL_DESCRIPTIONS\u001b[49m\u001b[43m}\u001b[49m\u001b[43m,\u001b[49m\n\u001b[1;32m    141\u001b[0m \u001b[43m        \u001b[49m\u001b[43m{\u001b[49m\u001b[38;5;124;43m\"\u001b[39;49m\u001b[38;5;124;43mrole\u001b[39;49m\u001b[38;5;124;43m\"\u001b[39;49m\u001b[43m:\u001b[49m\u001b[43m \u001b[49m\u001b[38;5;124;43m\"\u001b[39;49m\u001b[38;5;124;43muser\u001b[39;49m\u001b[38;5;124;43m\"\u001b[39;49m\u001b[43m,\u001b[49m\u001b[43m \u001b[49m\u001b[38;5;124;43m\"\u001b[39;49m\u001b[38;5;124;43mcontent\u001b[39;49m\u001b[38;5;124;43m\"\u001b[39;49m\u001b[43m:\u001b[49m\u001b[43m \u001b[49m\u001b[38;5;124;43mf\u001b[39;49m\u001b[38;5;124;43m\"\u001b[39;49m\u001b[38;5;124;43mYour task: \u001b[39;49m\u001b[38;5;132;43;01m{\u001b[39;49;00m\u001b[43mstep\u001b[49m\u001b[38;5;132;43;01m}\u001b[39;49;00m\u001b[38;5;124;43m\"\u001b[39;49m\u001b[43m}\u001b[49m\n\u001b[1;32m    142\u001b[0m \n\u001b[1;32m    143\u001b[0m \u001b[43m    \u001b[49m\u001b[43m]\u001b[49m\u001b[43m}\u001b[49m\u001b[43m)\u001b[49m\n\u001b[1;32m    145\u001b[0m     raw_answer \u001b[38;5;241m=\u001b[39m result[\u001b[38;5;124m\"\u001b[39m\u001b[38;5;124mmessages\u001b[39m\u001b[38;5;124m\"\u001b[39m][\u001b[38;5;241m-\u001b[39m\u001b[38;5;241m1\u001b[39m]\u001b[38;5;241m.\u001b[39mcontent\n\u001b[1;32m    146\u001b[0m     tools_used \u001b[38;5;241m=\u001b[39m extract_tool_names(result)\n",
      "File \u001b[0;32m~/miniconda3/envs/mi/lib/python3.10/site-packages/langgraph/pregel/__init__.py:2852\u001b[0m, in \u001b[0;36mPregel.invoke\u001b[0;34m(self, input, config, stream_mode, print_mode, output_keys, interrupt_before, interrupt_after, **kwargs)\u001b[0m\n\u001b[1;32m   2849\u001b[0m chunks: \u001b[38;5;28mlist\u001b[39m[\u001b[38;5;28mdict\u001b[39m[\u001b[38;5;28mstr\u001b[39m, Any] \u001b[38;5;241m|\u001b[39m Any] \u001b[38;5;241m=\u001b[39m []\n\u001b[1;32m   2850\u001b[0m interrupts: \u001b[38;5;28mlist\u001b[39m[Interrupt] \u001b[38;5;241m=\u001b[39m []\n\u001b[0;32m-> 2852\u001b[0m \u001b[38;5;28;01mfor\u001b[39;00m chunk \u001b[38;5;129;01min\u001b[39;00m \u001b[38;5;28mself\u001b[39m\u001b[38;5;241m.\u001b[39mstream(\n\u001b[1;32m   2853\u001b[0m     \u001b[38;5;28minput\u001b[39m,\n\u001b[1;32m   2854\u001b[0m     config,\n\u001b[1;32m   2855\u001b[0m     stream_mode\u001b[38;5;241m=\u001b[39m[\u001b[38;5;124m\"\u001b[39m\u001b[38;5;124mupdates\u001b[39m\u001b[38;5;124m\"\u001b[39m, \u001b[38;5;124m\"\u001b[39m\u001b[38;5;124mvalues\u001b[39m\u001b[38;5;124m\"\u001b[39m]\n\u001b[1;32m   2856\u001b[0m     \u001b[38;5;28;01mif\u001b[39;00m stream_mode \u001b[38;5;241m==\u001b[39m \u001b[38;5;124m\"\u001b[39m\u001b[38;5;124mvalues\u001b[39m\u001b[38;5;124m\"\u001b[39m\n\u001b[1;32m   2857\u001b[0m     \u001b[38;5;28;01melse\u001b[39;00m stream_mode,\n\u001b[1;32m   2858\u001b[0m     print_mode\u001b[38;5;241m=\u001b[39mprint_mode,\n\u001b[1;32m   2859\u001b[0m     output_keys\u001b[38;5;241m=\u001b[39moutput_keys,\n\u001b[1;32m   2860\u001b[0m     interrupt_before\u001b[38;5;241m=\u001b[39minterrupt_before,\n\u001b[1;32m   2861\u001b[0m     interrupt_after\u001b[38;5;241m=\u001b[39minterrupt_after,\n\u001b[1;32m   2862\u001b[0m     \u001b[38;5;241m*\u001b[39m\u001b[38;5;241m*\u001b[39mkwargs,\n\u001b[1;32m   2863\u001b[0m ):\n\u001b[1;32m   2864\u001b[0m     \u001b[38;5;28;01mif\u001b[39;00m stream_mode \u001b[38;5;241m==\u001b[39m \u001b[38;5;124m\"\u001b[39m\u001b[38;5;124mvalues\u001b[39m\u001b[38;5;124m\"\u001b[39m:\n\u001b[1;32m   2865\u001b[0m         \u001b[38;5;28;01mif\u001b[39;00m \u001b[38;5;28mlen\u001b[39m(chunk) \u001b[38;5;241m==\u001b[39m \u001b[38;5;241m2\u001b[39m:\n",
      "File \u001b[0;32m~/miniconda3/envs/mi/lib/python3.10/site-packages/langgraph/pregel/__init__.py:2542\u001b[0m, in \u001b[0;36mPregel.stream\u001b[0;34m(self, input, config, stream_mode, print_mode, output_keys, interrupt_before, interrupt_after, checkpoint_during, debug, subgraphs)\u001b[0m\n\u001b[1;32m   2540\u001b[0m \u001b[38;5;28;01mfor\u001b[39;00m task \u001b[38;5;129;01min\u001b[39;00m loop\u001b[38;5;241m.\u001b[39mmatch_cached_writes():\n\u001b[1;32m   2541\u001b[0m     loop\u001b[38;5;241m.\u001b[39moutput_writes(task\u001b[38;5;241m.\u001b[39mid, task\u001b[38;5;241m.\u001b[39mwrites, cached\u001b[38;5;241m=\u001b[39m\u001b[38;5;28;01mTrue\u001b[39;00m)\n\u001b[0;32m-> 2542\u001b[0m \u001b[38;5;28;01mfor\u001b[39;00m _ \u001b[38;5;129;01min\u001b[39;00m runner\u001b[38;5;241m.\u001b[39mtick(\n\u001b[1;32m   2543\u001b[0m     [t \u001b[38;5;28;01mfor\u001b[39;00m t \u001b[38;5;129;01min\u001b[39;00m loop\u001b[38;5;241m.\u001b[39mtasks\u001b[38;5;241m.\u001b[39mvalues() \u001b[38;5;28;01mif\u001b[39;00m \u001b[38;5;129;01mnot\u001b[39;00m t\u001b[38;5;241m.\u001b[39mwrites],\n\u001b[1;32m   2544\u001b[0m     timeout\u001b[38;5;241m=\u001b[39m\u001b[38;5;28mself\u001b[39m\u001b[38;5;241m.\u001b[39mstep_timeout,\n\u001b[1;32m   2545\u001b[0m     get_waiter\u001b[38;5;241m=\u001b[39mget_waiter,\n\u001b[1;32m   2546\u001b[0m     schedule_task\u001b[38;5;241m=\u001b[39mloop\u001b[38;5;241m.\u001b[39maccept_push,\n\u001b[1;32m   2547\u001b[0m ):\n\u001b[1;32m   2548\u001b[0m     \u001b[38;5;66;03m# emit output\u001b[39;00m\n\u001b[1;32m   2549\u001b[0m     \u001b[38;5;28;01myield from\u001b[39;00m _output(\n\u001b[1;32m   2550\u001b[0m         stream_mode, print_mode, subgraphs, stream\u001b[38;5;241m.\u001b[39mget, queue\u001b[38;5;241m.\u001b[39mEmpty\n\u001b[1;32m   2551\u001b[0m     )\n\u001b[1;32m   2552\u001b[0m loop\u001b[38;5;241m.\u001b[39mafter_tick()\n",
      "File \u001b[0;32m~/miniconda3/envs/mi/lib/python3.10/site-packages/langgraph/pregel/runner.py:162\u001b[0m, in \u001b[0;36mPregelRunner.tick\u001b[0;34m(self, tasks, reraise, timeout, retry_policy, get_waiter, schedule_task)\u001b[0m\n\u001b[1;32m    160\u001b[0m t \u001b[38;5;241m=\u001b[39m tasks[\u001b[38;5;241m0\u001b[39m]\n\u001b[1;32m    161\u001b[0m \u001b[38;5;28;01mtry\u001b[39;00m:\n\u001b[0;32m--> 162\u001b[0m     \u001b[43mrun_with_retry\u001b[49m\u001b[43m(\u001b[49m\n\u001b[1;32m    163\u001b[0m \u001b[43m        \u001b[49m\u001b[43mt\u001b[49m\u001b[43m,\u001b[49m\n\u001b[1;32m    164\u001b[0m \u001b[43m        \u001b[49m\u001b[43mretry_policy\u001b[49m\u001b[43m,\u001b[49m\n\u001b[1;32m    165\u001b[0m \u001b[43m        \u001b[49m\u001b[43mconfigurable\u001b[49m\u001b[38;5;241;43m=\u001b[39;49m\u001b[43m{\u001b[49m\n\u001b[1;32m    166\u001b[0m \u001b[43m            \u001b[49m\u001b[43mCONFIG_KEY_CALL\u001b[49m\u001b[43m:\u001b[49m\u001b[43m \u001b[49m\u001b[43mpartial\u001b[49m\u001b[43m(\u001b[49m\n\u001b[1;32m    167\u001b[0m \u001b[43m                \u001b[49m\u001b[43m_call\u001b[49m\u001b[43m,\u001b[49m\n\u001b[1;32m    168\u001b[0m \u001b[43m                \u001b[49m\u001b[43mweakref\u001b[49m\u001b[38;5;241;43m.\u001b[39;49m\u001b[43mref\u001b[49m\u001b[43m(\u001b[49m\u001b[43mt\u001b[49m\u001b[43m)\u001b[49m\u001b[43m,\u001b[49m\n\u001b[1;32m    169\u001b[0m \u001b[43m                \u001b[49m\u001b[43mretry_policy\u001b[49m\u001b[38;5;241;43m=\u001b[39;49m\u001b[43mretry_policy\u001b[49m\u001b[43m,\u001b[49m\n\u001b[1;32m    170\u001b[0m \u001b[43m                \u001b[49m\u001b[43mfutures\u001b[49m\u001b[38;5;241;43m=\u001b[39;49m\u001b[43mweakref\u001b[49m\u001b[38;5;241;43m.\u001b[39;49m\u001b[43mref\u001b[49m\u001b[43m(\u001b[49m\u001b[43mfutures\u001b[49m\u001b[43m)\u001b[49m\u001b[43m,\u001b[49m\n\u001b[1;32m    171\u001b[0m \u001b[43m                \u001b[49m\u001b[43mschedule_task\u001b[49m\u001b[38;5;241;43m=\u001b[39;49m\u001b[43mschedule_task\u001b[49m\u001b[43m,\u001b[49m\n\u001b[1;32m    172\u001b[0m \u001b[43m                \u001b[49m\u001b[43msubmit\u001b[49m\u001b[38;5;241;43m=\u001b[39;49m\u001b[38;5;28;43mself\u001b[39;49m\u001b[38;5;241;43m.\u001b[39;49m\u001b[43msubmit\u001b[49m\u001b[43m,\u001b[49m\n\u001b[1;32m    173\u001b[0m \u001b[43m            \u001b[49m\u001b[43m)\u001b[49m\u001b[43m,\u001b[49m\n\u001b[1;32m    174\u001b[0m \u001b[43m        \u001b[49m\u001b[43m}\u001b[49m\u001b[43m,\u001b[49m\n\u001b[1;32m    175\u001b[0m \u001b[43m    \u001b[49m\u001b[43m)\u001b[49m\n\u001b[1;32m    176\u001b[0m     \u001b[38;5;28mself\u001b[39m\u001b[38;5;241m.\u001b[39mcommit(t, \u001b[38;5;28;01mNone\u001b[39;00m)\n\u001b[1;32m    177\u001b[0m \u001b[38;5;28;01mexcept\u001b[39;00m \u001b[38;5;167;01mException\u001b[39;00m \u001b[38;5;28;01mas\u001b[39;00m exc:\n",
      "File \u001b[0;32m~/miniconda3/envs/mi/lib/python3.10/site-packages/langgraph/pregel/retry.py:42\u001b[0m, in \u001b[0;36mrun_with_retry\u001b[0;34m(task, retry_policy, configurable)\u001b[0m\n\u001b[1;32m     40\u001b[0m     task\u001b[38;5;241m.\u001b[39mwrites\u001b[38;5;241m.\u001b[39mclear()\n\u001b[1;32m     41\u001b[0m     \u001b[38;5;66;03m# run the task\u001b[39;00m\n\u001b[0;32m---> 42\u001b[0m     \u001b[38;5;28;01mreturn\u001b[39;00m \u001b[43mtask\u001b[49m\u001b[38;5;241;43m.\u001b[39;49m\u001b[43mproc\u001b[49m\u001b[38;5;241;43m.\u001b[39;49m\u001b[43minvoke\u001b[49m\u001b[43m(\u001b[49m\u001b[43mtask\u001b[49m\u001b[38;5;241;43m.\u001b[39;49m\u001b[43minput\u001b[49m\u001b[43m,\u001b[49m\u001b[43m \u001b[49m\u001b[43mconfig\u001b[49m\u001b[43m)\u001b[49m\n\u001b[1;32m     43\u001b[0m \u001b[38;5;28;01mexcept\u001b[39;00m ParentCommand \u001b[38;5;28;01mas\u001b[39;00m exc:\n\u001b[1;32m     44\u001b[0m     ns: \u001b[38;5;28mstr\u001b[39m \u001b[38;5;241m=\u001b[39m config[CONF][CONFIG_KEY_CHECKPOINT_NS]\n",
      "File \u001b[0;32m~/miniconda3/envs/mi/lib/python3.10/site-packages/langgraph/utils/runnable.py:623\u001b[0m, in \u001b[0;36mRunnableSeq.invoke\u001b[0;34m(self, input, config, **kwargs)\u001b[0m\n\u001b[1;32m    621\u001b[0m     \u001b[38;5;66;03m# run in context\u001b[39;00m\n\u001b[1;32m    622\u001b[0m     \u001b[38;5;28;01mwith\u001b[39;00m set_config_context(config, run) \u001b[38;5;28;01mas\u001b[39;00m context:\n\u001b[0;32m--> 623\u001b[0m         \u001b[38;5;28minput\u001b[39m \u001b[38;5;241m=\u001b[39m \u001b[43mcontext\u001b[49m\u001b[38;5;241;43m.\u001b[39;49m\u001b[43mrun\u001b[49m\u001b[43m(\u001b[49m\u001b[43mstep\u001b[49m\u001b[38;5;241;43m.\u001b[39;49m\u001b[43minvoke\u001b[49m\u001b[43m,\u001b[49m\u001b[43m \u001b[49m\u001b[38;5;28;43minput\u001b[39;49m\u001b[43m,\u001b[49m\u001b[43m \u001b[49m\u001b[43mconfig\u001b[49m\u001b[43m,\u001b[49m\u001b[43m \u001b[49m\u001b[38;5;241;43m*\u001b[39;49m\u001b[38;5;241;43m*\u001b[39;49m\u001b[43mkwargs\u001b[49m\u001b[43m)\u001b[49m\n\u001b[1;32m    624\u001b[0m \u001b[38;5;28;01melse\u001b[39;00m:\n\u001b[1;32m    625\u001b[0m     \u001b[38;5;28minput\u001b[39m \u001b[38;5;241m=\u001b[39m step\u001b[38;5;241m.\u001b[39minvoke(\u001b[38;5;28minput\u001b[39m, config)\n",
      "File \u001b[0;32m~/miniconda3/envs/mi/lib/python3.10/site-packages/langgraph/utils/runnable.py:377\u001b[0m, in \u001b[0;36mRunnableCallable.invoke\u001b[0;34m(self, input, config, **kwargs)\u001b[0m\n\u001b[1;32m    375\u001b[0m         run_manager\u001b[38;5;241m.\u001b[39mon_chain_end(ret)\n\u001b[1;32m    376\u001b[0m \u001b[38;5;28;01melse\u001b[39;00m:\n\u001b[0;32m--> 377\u001b[0m     ret \u001b[38;5;241m=\u001b[39m \u001b[38;5;28;43mself\u001b[39;49m\u001b[38;5;241;43m.\u001b[39;49m\u001b[43mfunc\u001b[49m\u001b[43m(\u001b[49m\u001b[38;5;241;43m*\u001b[39;49m\u001b[43margs\u001b[49m\u001b[43m,\u001b[49m\u001b[43m \u001b[49m\u001b[38;5;241;43m*\u001b[39;49m\u001b[38;5;241;43m*\u001b[39;49m\u001b[43mkwargs\u001b[49m\u001b[43m)\u001b[49m\n\u001b[1;32m    378\u001b[0m \u001b[38;5;28;01mif\u001b[39;00m \u001b[38;5;28mself\u001b[39m\u001b[38;5;241m.\u001b[39mrecurse \u001b[38;5;129;01mand\u001b[39;00m \u001b[38;5;28misinstance\u001b[39m(ret, Runnable):\n\u001b[1;32m    379\u001b[0m     \u001b[38;5;28;01mreturn\u001b[39;00m ret\u001b[38;5;241m.\u001b[39minvoke(\u001b[38;5;28minput\u001b[39m, config)\n",
      "File \u001b[0;32m~/miniconda3/envs/mi/lib/python3.10/site-packages/langgraph/prebuilt/tool_node.py:241\u001b[0m, in \u001b[0;36mToolNode._func\u001b[0;34m(self, input, config, store)\u001b[0m\n\u001b[1;32m    239\u001b[0m input_types \u001b[38;5;241m=\u001b[39m [input_type] \u001b[38;5;241m*\u001b[39m \u001b[38;5;28mlen\u001b[39m(tool_calls)\n\u001b[1;32m    240\u001b[0m \u001b[38;5;28;01mwith\u001b[39;00m get_executor_for_config(config) \u001b[38;5;28;01mas\u001b[39;00m executor:\n\u001b[0;32m--> 241\u001b[0m     outputs \u001b[38;5;241m=\u001b[39m [\n\u001b[1;32m    242\u001b[0m         \u001b[38;5;241m*\u001b[39mexecutor\u001b[38;5;241m.\u001b[39mmap(\u001b[38;5;28mself\u001b[39m\u001b[38;5;241m.\u001b[39m_run_one, tool_calls, input_types, config_list)\n\u001b[1;32m    243\u001b[0m     ]\n\u001b[1;32m    245\u001b[0m \u001b[38;5;28;01mreturn\u001b[39;00m \u001b[38;5;28mself\u001b[39m\u001b[38;5;241m.\u001b[39m_combine_tool_outputs(outputs, input_type)\n",
      "File \u001b[0;32m~/miniconda3/envs/mi/lib/python3.10/concurrent/futures/_base.py:621\u001b[0m, in \u001b[0;36mExecutor.map.<locals>.result_iterator\u001b[0;34m()\u001b[0m\n\u001b[1;32m    618\u001b[0m \u001b[38;5;28;01mwhile\u001b[39;00m fs:\n\u001b[1;32m    619\u001b[0m     \u001b[38;5;66;03m# Careful not to keep a reference to the popped future\u001b[39;00m\n\u001b[1;32m    620\u001b[0m     \u001b[38;5;28;01mif\u001b[39;00m timeout \u001b[38;5;129;01mis\u001b[39;00m \u001b[38;5;28;01mNone\u001b[39;00m:\n\u001b[0;32m--> 621\u001b[0m         \u001b[38;5;28;01myield\u001b[39;00m \u001b[43m_result_or_cancel\u001b[49m\u001b[43m(\u001b[49m\u001b[43mfs\u001b[49m\u001b[38;5;241;43m.\u001b[39;49m\u001b[43mpop\u001b[49m\u001b[43m(\u001b[49m\u001b[43m)\u001b[49m\u001b[43m)\u001b[49m\n\u001b[1;32m    622\u001b[0m     \u001b[38;5;28;01melse\u001b[39;00m:\n\u001b[1;32m    623\u001b[0m         \u001b[38;5;28;01myield\u001b[39;00m _result_or_cancel(fs\u001b[38;5;241m.\u001b[39mpop(), end_time \u001b[38;5;241m-\u001b[39m time\u001b[38;5;241m.\u001b[39mmonotonic())\n",
      "File \u001b[0;32m~/miniconda3/envs/mi/lib/python3.10/concurrent/futures/_base.py:319\u001b[0m, in \u001b[0;36m_result_or_cancel\u001b[0;34m(***failed resolving arguments***)\u001b[0m\n\u001b[1;32m    317\u001b[0m \u001b[38;5;28;01mtry\u001b[39;00m:\n\u001b[1;32m    318\u001b[0m     \u001b[38;5;28;01mtry\u001b[39;00m:\n\u001b[0;32m--> 319\u001b[0m         \u001b[38;5;28;01mreturn\u001b[39;00m \u001b[43mfut\u001b[49m\u001b[38;5;241;43m.\u001b[39;49m\u001b[43mresult\u001b[49m\u001b[43m(\u001b[49m\u001b[43mtimeout\u001b[49m\u001b[43m)\u001b[49m\n\u001b[1;32m    320\u001b[0m     \u001b[38;5;28;01mfinally\u001b[39;00m:\n\u001b[1;32m    321\u001b[0m         fut\u001b[38;5;241m.\u001b[39mcancel()\n",
      "File \u001b[0;32m~/miniconda3/envs/mi/lib/python3.10/concurrent/futures/_base.py:453\u001b[0m, in \u001b[0;36mFuture.result\u001b[0;34m(self, timeout)\u001b[0m\n\u001b[1;32m    450\u001b[0m \u001b[38;5;28;01melif\u001b[39;00m \u001b[38;5;28mself\u001b[39m\u001b[38;5;241m.\u001b[39m_state \u001b[38;5;241m==\u001b[39m FINISHED:\n\u001b[1;32m    451\u001b[0m     \u001b[38;5;28;01mreturn\u001b[39;00m \u001b[38;5;28mself\u001b[39m\u001b[38;5;241m.\u001b[39m__get_result()\n\u001b[0;32m--> 453\u001b[0m \u001b[38;5;28;43mself\u001b[39;49m\u001b[38;5;241;43m.\u001b[39;49m\u001b[43m_condition\u001b[49m\u001b[38;5;241;43m.\u001b[39;49m\u001b[43mwait\u001b[49m\u001b[43m(\u001b[49m\u001b[43mtimeout\u001b[49m\u001b[43m)\u001b[49m\n\u001b[1;32m    455\u001b[0m \u001b[38;5;28;01mif\u001b[39;00m \u001b[38;5;28mself\u001b[39m\u001b[38;5;241m.\u001b[39m_state \u001b[38;5;129;01min\u001b[39;00m [CANCELLED, CANCELLED_AND_NOTIFIED]:\n\u001b[1;32m    456\u001b[0m     \u001b[38;5;28;01mraise\u001b[39;00m CancelledError()\n",
      "File \u001b[0;32m~/miniconda3/envs/mi/lib/python3.10/threading.py:320\u001b[0m, in \u001b[0;36mCondition.wait\u001b[0;34m(self, timeout)\u001b[0m\n\u001b[1;32m    318\u001b[0m \u001b[38;5;28;01mtry\u001b[39;00m:    \u001b[38;5;66;03m# restore state no matter what (e.g., KeyboardInterrupt)\u001b[39;00m\n\u001b[1;32m    319\u001b[0m     \u001b[38;5;28;01mif\u001b[39;00m timeout \u001b[38;5;129;01mis\u001b[39;00m \u001b[38;5;28;01mNone\u001b[39;00m:\n\u001b[0;32m--> 320\u001b[0m         \u001b[43mwaiter\u001b[49m\u001b[38;5;241;43m.\u001b[39;49m\u001b[43macquire\u001b[49m\u001b[43m(\u001b[49m\u001b[43m)\u001b[49m\n\u001b[1;32m    321\u001b[0m         gotit \u001b[38;5;241m=\u001b[39m \u001b[38;5;28;01mTrue\u001b[39;00m\n\u001b[1;32m    322\u001b[0m     \u001b[38;5;28;01melse\u001b[39;00m:\n",
      "\u001b[0;31mKeyboardInterrupt\u001b[0m: "
     ]
    }
   ],
   "source": [
    "agentic_behaviour(p_c_a,question)"
   ]
  },
  {
   "cell_type": "code",
   "execution_count": 133,
   "id": "8ec237b3",
   "metadata": {},
   "outputs": [
    {
     "data": {
      "text/plain": [
       "[{'role': 'user',\n",
       "  'content': 'Find me the best burrito shops in Istanbul and then ask me which one is my favorite so you can find its address only'},\n",
       " {'role': 'system',\n",
       "  'content': 'Corrected Plan:\\nStep 1. Use the `search_tool` with the input \"best burrito shops in Istanbul\" to find information on the top burrito shops in Istanbul.  \\nStep 2. Present the list of burrito shops obtained from Step 1 to the user and request them to select their favorite shop.  \\nStep 3. Use the `search_tool` with the input \"address of [user\\'s favorite burrito shop name] in Istanbul\" to find the specific address of the user\\'s chosen shop.\\n\\nVerdict: READY'},\n",
       " {'role': 'system',\n",
       "  'content': \"Based on recent search results, here are some of the top-rated burrito shops in Istanbul:\\n\\n1. **Burrito Shop Mexican Wave** - Featured on Yelp and Tripadvisor, this shop is highly rated for its delicious burritos and quesadillas.\\n   - [Yelp](https://www.yelp.com/search?find_desc=Burrito&find_loc=Istanbul)\\n   - [Tripadvisor](https://www.tripadvisor.com/Restaurants-g293974-zfd10878-Istanbul-Burrito.html)\\n\\n2. **Tacofit** - Known for its Mexican cuisine, including burritos, and featured on Yelp.\\n   - [Yelp](https://www.yelp.com/search?cflt=mexican&find_loc=Istanbul)\\n\\n3. **Ranchero** - A popular spot for burritos, mentioned in multiple sources.\\n   - [Yelp](https://www.yelp.com/search?cflt=mexican&find_loc=Istanbul)\\n\\n4. **Story Coffee & Food** - Part of the top list for burrito shops in Istanbul.\\n\\n5. **Happy Moon's** - Located in Fenerbahçe, this place is known for its tasty burritos.\\n\\n6. **Burrito Shop Caddebostan** - Highly rated on Tripadvisor for its wonderful and tasty burritos.\\n   - [Tripadvisor](https://www.tripadvisor.com/Restaurants-g293974-zfd10878-Istanbul-Burrito.html)\\n\\n7. **Taco & Tortilla** - Part of the top 7 restaurants with burritos in Istanbul.\\n   - [Restaurant Guru](https://restaurantguru.com/burritos-Istanbul-m6549)\\n\\n8. **Ranchero Suadiye** - Another spot highlighted for its burritos.\\n   - [Restaurant Guru](https://restaurantguru.com/burritos-Istanbul-m6549)\\n\\n9. **Los Altos** - Known for its Mexican cuisine, featured on Yelp.\\n   - [Yelp](https://www.yelp.com/search?cflt=mexican&find_loc=Istanbul)\\n\\n10. **El Torito** - Part of the top Mexican restaurants in Istanbul.\\n    - [Yelp](https://www.yelp.com/search?cflt=mexican&find_loc=Istanbul)\\n\\n### Summary:\\n- Top burrito shops in Istanbul include Burrito Shop Mexican Wave, Tacofit, Ranchero, Story Coffee & Food, Happy Moon's, and more.\\n- Notable URLs: \\n  - Yelp: [Top 10 Best Burrito](https://www.yelp.com/search?find_desc=Burrito&find_loc=Istanbul), [Best Mexican Restaurants](https://www.yelp.com/search?cflt=mexican&find_loc=Istanbul)\\n  - Tripadvisor: [Best Burritos](https://www.tripadvisor.com/Restaurants-g293974-zfd10878-Istanbul-Burrito.html)\\n  - Restaurant Guru: [Top 7 Burrito Restaurants](https://restaurantguru.com/burritos-Istanbul-m6549)\\n\\n### Resources:\\n- [Yelp](https://www.yelp.com/search?find_desc=Burrito&find_loc=Istanbul)\\n- [Tripadvisor](https://www.tripadvisor.com/Restaurants-g293974-zfd10878-Istanbul-Burrito.html)\\n- [Restaurant Guru](https://restaurantguru.com/burritos-Istanbul-m6549)\\n- [Time Out](https://www.timeout.com/istanbul/restaurants/burrito-shop)\"},\n",
       " {'role': 'system',\n",
       "  'content': \"Based on the provided context, here are the names of the top burrito shops in Istanbul:\\n\\n1. Burrito Shop Mexican Wave\\n2. Tacofit\\n3. Ranchero\\n4. Story Coffee & Food\\n5. Happy Moon's\\n6. Burrito Shop Caddebostan\\n7. Taco & Tortilla\\n8. Ranchero Suadiye\\n9. Los Altos\\n10. El Torito\\n\\n### Summary:\\n- Top burrito shops names extracted:\\n  - Burrito Shop Mexican Wave\\n  - Tacofit\\n  - Ranchero\\n  - Story Coffee & Food\\n  - Happy Moon's\\n  - Burrito Shop Caddebostan\\n  - Taco & Tortilla\\n  - Ranchero Suadiye\\n  - Los Altos\\n  - El Torito\\n\\n### Resources:\\n- None.\"},\n",
       " {'role': 'system',\n",
       "  'content': \"Here is a list of top burrito shops in Istanbul that you might consider:\\n\\n1. Burrito Shop Mexican Wave\\n2. Tacofit\\n3. Ranchero\\n4. Story Coffee & Food\\n5. Happy Moon's\\n6. Burrito Shop Caddebostan\\n7. Taco & Tortilla\\n8. Ranchero Suadiye\\n9. Los Altos\\n10. El Torito\\n\\nPlease select your favorite from the list above.\"}]"
      ]
     },
     "execution_count": 133,
     "metadata": {},
     "output_type": "execute_result"
    }
   ],
   "source": [
    "memory.chat_history"
   ]
  },
  {
   "cell_type": "code",
   "execution_count": 134,
   "id": "b5daab1b",
   "metadata": {},
   "outputs": [],
   "source": [
    "context = \"\\n\".join([f\"{m['role'].capitalize()}: {m['content']}\" for m in memory.chat_history])"
   ]
  },
  {
   "cell_type": "code",
   "execution_count": 135,
   "id": "1467c583",
   "metadata": {},
   "outputs": [
    {
     "data": {
      "text/plain": [
       "'User: Find me the best burrito shops in Istanbul and then ask me which one is my favorite so you can find its address only\\nSystem: Corrected Plan:\\nStep 1. Use the `search_tool` with the input \"best burrito shops in Istanbul\" to find information on the top burrito shops in Istanbul.  \\nStep 2. Present the list of burrito shops obtained from Step 1 to the user and request them to select their favorite shop.  \\nStep 3. Use the `search_tool` with the input \"address of [user\\'s favorite burrito shop name] in Istanbul\" to find the specific address of the user\\'s chosen shop.\\n\\nVerdict: READY\\nSystem: Based on recent search results, here are some of the top-rated burrito shops in Istanbul:\\n\\n1. **Burrito Shop Mexican Wave** - Featured on Yelp and Tripadvisor, this shop is highly rated for its delicious burritos and quesadillas.\\n   - [Yelp](https://www.yelp.com/search?find_desc=Burrito&find_loc=Istanbul)\\n   - [Tripadvisor](https://www.tripadvisor.com/Restaurants-g293974-zfd10878-Istanbul-Burrito.html)\\n\\n2. **Tacofit** - Known for its Mexican cuisine, including burritos, and featured on Yelp.\\n   - [Yelp](https://www.yelp.com/search?cflt=mexican&find_loc=Istanbul)\\n\\n3. **Ranchero** - A popular spot for burritos, mentioned in multiple sources.\\n   - [Yelp](https://www.yelp.com/search?cflt=mexican&find_loc=Istanbul)\\n\\n4. **Story Coffee & Food** - Part of the top list for burrito shops in Istanbul.\\n\\n5. **Happy Moon\\'s** - Located in Fenerbahçe, this place is known for its tasty burritos.\\n\\n6. **Burrito Shop Caddebostan** - Highly rated on Tripadvisor for its wonderful and tasty burritos.\\n   - [Tripadvisor](https://www.tripadvisor.com/Restaurants-g293974-zfd10878-Istanbul-Burrito.html)\\n\\n7. **Taco & Tortilla** - Part of the top 7 restaurants with burritos in Istanbul.\\n   - [Restaurant Guru](https://restaurantguru.com/burritos-Istanbul-m6549)\\n\\n8. **Ranchero Suadiye** - Another spot highlighted for its burritos.\\n   - [Restaurant Guru](https://restaurantguru.com/burritos-Istanbul-m6549)\\n\\n9. **Los Altos** - Known for its Mexican cuisine, featured on Yelp.\\n   - [Yelp](https://www.yelp.com/search?cflt=mexican&find_loc=Istanbul)\\n\\n10. **El Torito** - Part of the top Mexican restaurants in Istanbul.\\n    - [Yelp](https://www.yelp.com/search?cflt=mexican&find_loc=Istanbul)\\n\\n### Summary:\\n- Top burrito shops in Istanbul include Burrito Shop Mexican Wave, Tacofit, Ranchero, Story Coffee & Food, Happy Moon\\'s, and more.\\n- Notable URLs: \\n  - Yelp: [Top 10 Best Burrito](https://www.yelp.com/search?find_desc=Burrito&find_loc=Istanbul), [Best Mexican Restaurants](https://www.yelp.com/search?cflt=mexican&find_loc=Istanbul)\\n  - Tripadvisor: [Best Burritos](https://www.tripadvisor.com/Restaurants-g293974-zfd10878-Istanbul-Burrito.html)\\n  - Restaurant Guru: [Top 7 Burrito Restaurants](https://restaurantguru.com/burritos-Istanbul-m6549)\\n\\n### Resources:\\n- [Yelp](https://www.yelp.com/search?find_desc=Burrito&find_loc=Istanbul)\\n- [Tripadvisor](https://www.tripadvisor.com/Restaurants-g293974-zfd10878-Istanbul-Burrito.html)\\n- [Restaurant Guru](https://restaurantguru.com/burritos-Istanbul-m6549)\\n- [Time Out](https://www.timeout.com/istanbul/restaurants/burrito-shop)\\nSystem: Based on the provided context, here are the names of the top burrito shops in Istanbul:\\n\\n1. Burrito Shop Mexican Wave\\n2. Tacofit\\n3. Ranchero\\n4. Story Coffee & Food\\n5. Happy Moon\\'s\\n6. Burrito Shop Caddebostan\\n7. Taco & Tortilla\\n8. Ranchero Suadiye\\n9. Los Altos\\n10. El Torito\\n\\n### Summary:\\n- Top burrito shops names extracted:\\n  - Burrito Shop Mexican Wave\\n  - Tacofit\\n  - Ranchero\\n  - Story Coffee & Food\\n  - Happy Moon\\'s\\n  - Burrito Shop Caddebostan\\n  - Taco & Tortilla\\n  - Ranchero Suadiye\\n  - Los Altos\\n  - El Torito\\n\\n### Resources:\\n- None.\\nSystem: Here is a list of top burrito shops in Istanbul that you might consider:\\n\\n1. Burrito Shop Mexican Wave\\n2. Tacofit\\n3. Ranchero\\n4. Story Coffee & Food\\n5. Happy Moon\\'s\\n6. Burrito Shop Caddebostan\\n7. Taco & Tortilla\\n8. Ranchero Suadiye\\n9. Los Altos\\n10. El Torito\\n\\nPlease select your favorite from the list above.'"
      ]
     },
     "execution_count": 135,
     "metadata": {},
     "output_type": "execute_result"
    }
   ],
   "source": [
    "context"
   ]
  },
  {
   "cell_type": "code",
   "execution_count": 104,
   "id": "ee64fb90",
   "metadata": {},
   "outputs": [
    {
     "name": "stdout",
     "output_type": "stream",
     "text": [
      "Decision: \"Changed Steps\"\n",
      "\n",
      "Corrected NEXT Plan:\n",
      "Step 1. Use the `arxiv_search` tool with the input `{\"query\": \"machine learning\", \"max_results\": 5}` to search for academic papers on machine learning.\n",
      "Step 2. Use the `download_tool` immediately after the `arxiv_search` to download the papers you just searched for. This ensures you have the latest papers for analysis.\n",
      "Step 3. Use the `list_directory_tool` to verify the downloaded papers and ensure they are saved correctly. This will help you confirm the presence of the PDF files.- Input: `\"pdf\"` to filter for PDF files specifically.\n"
     ]
    }
   ],
   "source": [
    "print(run_evaluator(answer,step1,p_c_a))"
   ]
  },
  {
   "cell_type": "code",
   "execution_count": 99,
   "id": "ef094d9d",
   "metadata": {},
   "outputs": [],
   "source": [
    "answer = \"I've tried to get the arxiv links but the search was not working. I can try again\""
   ]
  },
  {
   "cell_type": "code",
   "execution_count": 110,
   "id": "2d4b0702",
   "metadata": {},
   "outputs": [
    {
     "name": "stdout",
     "output_type": "stream",
     "text": [
      "Decision: \"Changed Steps\"\n",
      "\n",
      "Corrected NEXT Plan:\n",
      "Step 2. Ensure the input to the `arxiv_search` tool is correctly formatted and execute the tool with the following input: `{\"query\": \"machine learning\", \"max_results\": 5}`.\n",
      "Step 3. Use the `download_tool` immediately after the `arxiv_search` to download the papers you just searched for. This ensures you have the latest papers for analysis.- Input: Run the tool with no specific input.\n",
      "Step 4. Use the `list_directory_tool` to verify the downloaded papers and ensure they are saved correctly. This will help you confirm the presence of the PDF files.- Input: `\"pdf\"` to filter for PDF files specifically.\n",
      "0 Step 2. Ensure the input to the `arxiv_search` tool is correctly formatted and execute the tool with the following input: `{\"query\": \"machine learning\", \"max_results\": 5}`.\n",
      "1 Step 3. Use the `download_tool` immediately after the `arxiv_search` to download the papers you just searched for. This ensures you have the latest papers for analysis.- Input: Run the tool with no specific input.\n",
      "2 Step 4. Use the `list_directory_tool` to verify the downloaded papers and ensure they are saved correctly. This will help you confirm the presence of the PDF files.- Input: `\"pdf\"` to filter for PDF files specifically.\n"
     ]
    }
   ],
   "source": [
    "eval = run_evaluator(answer,step1,p_c_a)\n",
    "print(eval)\n",
    "y = parse_eval(eval)\n",
    "for i,j in enumerate(y):\n",
    "    print(i,j)"
   ]
  },
  {
   "cell_type": "code",
   "execution_count": 111,
   "id": "5d3c47c4",
   "metadata": {},
   "outputs": [
    {
     "name": "stdout",
     "output_type": "stream",
     "text": [
      "['Step 2. Ensure the input to the `arxiv_search` tool is correctly formatted and execute the tool with the following input: `{\"query\": \"machine learning\", \"max_results\": 5}`.', 'Step 3. Use the `download_tool` immediately after the `arxiv_search` to download the papers you just searched for. This ensures you have the latest papers for analysis.- Input: Run the tool with no specific input.', 'Step 4. Use the `list_directory_tool` to verify the downloaded papers and ensure they are saved correctly. This will help you confirm the presence of the PDF files.- Input: `\"pdf\"` to filter for PDF files specifically.']\n"
     ]
    }
   ],
   "source": [
    "print(y)"
   ]
  },
  {
   "cell_type": "code",
   "execution_count": 170,
   "id": "7eaf682f",
   "metadata": {},
   "outputs": [],
   "source": [
    "import base64\n",
    "import io\n",
    "\n",
    "import fitz\n",
    "from PIL import Image\n",
    "\n",
    "\n",
    "def pdf_page_to_base64(pdf_path: str, page_number: int):\n",
    "    pdf_document = fitz.open(pdf_path)\n",
    "    page = pdf_document.load_page(page_number - 1)  # input is one-indexed\n",
    "    pix = page.get_pixmap()\n",
    "    img = Image.frombytes(\"RGB\", [pix.width, pix.height], pix.samples)\n",
    "\n",
    "    buffer = io.BytesIO()\n",
    "    img.save(buffer, format=\"PNG\")\n",
    "\n",
    "    return base64.b64encode(buffer.getvalue()).decode(\"utf-8\")"
   ]
  },
  {
   "cell_type": "code",
   "execution_count": 179,
   "id": "353cd313",
   "metadata": {},
   "outputs": [
    {
     "data": {
      "image/png": "[encoded data removed]",
      "text/plain": [
       "<IPython.core.display.Image object>"
      ]
     },
     "metadata": {},
     "output_type": "display_data"
    }
   ],
   "source": [
    "from IPython.display import Image as IPImage\n",
    "from IPython.display import display\n",
    "file_path = \"./model_downloaded_pdfs/1311.0635v2.pdf\"\n",
    "base64_image = pdf_page_to_base64(file_path, 8)\n",
    "display(IPImage(data=base64.b64decode(base64_image)))"
   ]
  },
  {
   "cell_type": "code",
   "execution_count": 191,
   "id": "40a426ec",
   "metadata": {},
   "outputs": [
    {
     "data": {
      "text/plain": [
       "('I found several resources where you can access a large collection of dog images for free. Here are some of the top results:\\n\\n1. **Pixabay**: Offers over 53,327 free images of dogs, including various categories like animal, pet, nature, and cute dog portraits. You can download these images in HD for free. [Pixabay - Dog Images](https://pixabay.com/images/search/dog/)\\n\\n2. **FreeImages**: Provides 6,325 free dog images and pictures suitable for personal or commercial use. [FreeImages - Dog Stock Photos](https://www.freeimages.com/search/dog)\\n\\n3. **Dogs in Pictures**: A collection of dog photography, posters, art prints, and clip-art images from around the world. [Dogs in Pictures](https://www.dogsinpictures.com/)\\n\\n4. **Vecteezy**: Features 210,872 beautiful dog stock images, photos, and wallpaper available for royalty-free download. [Vecteezy - Dog Stock Photos](https://www.vecteezy.com/free-photos/dog)\\n\\n5. **Dreamstime**: Offers a large selection of dog stock photos and images with lifetime, perpetual, and worldwide rights. [Dreamstime - Dog Images](https://www.dreamstime.com/photos-images/dog.html)\\n\\nThese resources should provide you with a wide range of dog images for various uses.',\n",
       " ['tavily_search_results_json'])"
      ]
     },
     "execution_count": 191,
     "metadata": {},
     "output_type": "execute_result"
    }
   ],
   "source": [
    "run_agent(f\"Search about dog images\", \"\")"
   ]
  },
  {
   "cell_type": "code",
   "execution_count": 187,
   "id": "a9cc588e",
   "metadata": {},
   "outputs": [
    {
     "name": "stdout",
     "output_type": "stream",
     "text": [
      "I'm unable to view or interpret images directly. However, if you can describe the content of the image, I'd be happy to help answer any questions you have about it.\n"
     ]
    }
   ],
   "source": [
    "print(raw_answer)"
   ]
  }
 ],
 "metadata": {
  "kernelspec": {
   "display_name": "mi",
   "language": "python",
   "name": "python3"
  },
  "language_info": {
   "codemirror_mode": {
    "name": "ipython",
    "version": 3
   },
   "file_extension": ".py",
   "mimetype": "text/x-python",
   "name": "python",
   "nbconvert_exporter": "python",
   "pygments_lexer": "ipython3",
   "version": "3.10.18"
  }
 },
 "nbformat": 4,
 "nbformat_minor": 5
}
